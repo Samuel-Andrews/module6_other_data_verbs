{
 "cells": [
  {
   "cell_type": "markdown",
   "metadata": {
    "slideshow": {
     "slide_type": "slide"
    }
   },
   "source": [
    "# Stacking and unstacking data"
   ]
  },
  {
   "cell_type": "code",
   "execution_count": 1,
   "metadata": {
    "scrolled": true,
    "slideshow": {
     "slide_type": "fragment"
    }
   },
   "outputs": [],
   "source": [
    "import pandas as pd\n",
    "from dfply import *"
   ]
  },
  {
   "cell_type": "markdown",
   "metadata": {
    "slideshow": {
     "slide_type": "slide"
    }
   },
   "source": [
    "## Reshaping data\n",
    "\n",
    "Two ways\n",
    "\n",
    "* We can **stack** data into a *tall* format.\n",
    "* We can **unstack** data into a *long* format."
   ]
  },
  {
   "cell_type": "markdown",
   "metadata": {
    "slideshow": {
     "slide_type": "slide"
    }
   },
   "source": [
    "## (totally real and not at all made-up) Example - Quarterly Auto Sales\n",
    "\n",
    "**Note** the last four columns are\n",
    "\n",
    "* same measurements\n",
    "* same units"
   ]
  },
  {
   "cell_type": "code",
   "execution_count": 2,
   "metadata": {
    "slideshow": {
     "slide_type": "fragment"
    }
   },
   "outputs": [
    {
     "output_type": "execute_result",
     "data": {
      "text/plain": [
       "  Salesperson  Compact  Sedan   SUV  Truck\n",
       "0         Ann       22     18  15.0     12\n",
       "1         Bob       19     12  17.0     20\n",
       "2        Doug       20     13   NaN     20\n",
       "3     Yolanda       19      8  32.0     15\n",
       "4      Xerxes       12     23  18.0      9"
      ],
      "text/html": "<div>\n<style scoped>\n    .dataframe tbody tr th:only-of-type {\n        vertical-align: middle;\n    }\n\n    .dataframe tbody tr th {\n        vertical-align: top;\n    }\n\n    .dataframe thead th {\n        text-align: right;\n    }\n</style>\n<table border=\"1\" class=\"dataframe\">\n  <thead>\n    <tr style=\"text-align: right;\">\n      <th></th>\n      <th>Salesperson</th>\n      <th>Compact</th>\n      <th>Sedan</th>\n      <th>SUV</th>\n      <th>Truck</th>\n    </tr>\n  </thead>\n  <tbody>\n    <tr>\n      <th>0</th>\n      <td>Ann</td>\n      <td>22</td>\n      <td>18</td>\n      <td>15.0</td>\n      <td>12</td>\n    </tr>\n    <tr>\n      <th>1</th>\n      <td>Bob</td>\n      <td>19</td>\n      <td>12</td>\n      <td>17.0</td>\n      <td>20</td>\n    </tr>\n    <tr>\n      <th>2</th>\n      <td>Doug</td>\n      <td>20</td>\n      <td>13</td>\n      <td>NaN</td>\n      <td>20</td>\n    </tr>\n    <tr>\n      <th>3</th>\n      <td>Yolanda</td>\n      <td>19</td>\n      <td>8</td>\n      <td>32.0</td>\n      <td>15</td>\n    </tr>\n    <tr>\n      <th>4</th>\n      <td>Xerxes</td>\n      <td>12</td>\n      <td>23</td>\n      <td>18.0</td>\n      <td>9</td>\n    </tr>\n  </tbody>\n</table>\n</div>"
     },
     "metadata": {},
     "execution_count": 2
    }
   ],
   "source": [
    "sales = pd.read_csv(\"./data/auto_sales.csv\")\n",
    "sales"
   ]
  },
  {
   "cell_type": "markdown",
   "metadata": {
    "slideshow": {
     "slide_type": "slide"
    }
   },
   "source": [
    "## Stacking measurements of the same type/units\n",
    "\n",
    "<img src=\"./img/stack_in_action.gif\" width=600>\n",
    "\n",
    "We can fix issues with informative column labels by stacking the data with `gather`"
   ]
  },
  {
   "cell_type": "markdown",
   "metadata": {
    "slideshow": {
     "slide_type": "slide"
    }
   },
   "source": [
    "## A Stack by any other name ...\n",
    "\n",
    "The act of stacking similar columns goes by various names.\n",
    "\n",
    "* JMP and Minitab call this *stack*\n",
    "* `pandas` calls this *melt*\n",
    "* Wickham/`tidyr`/`dfply` call this *gather*\n",
    "\n",
    "I prefer **stack**, primarily because it makes it clear we are *melting*/*gathering* data vertically."
   ]
  },
  {
   "cell_type": "markdown",
   "metadata": {
    "slideshow": {
     "slide_type": "slide"
    }
   },
   "source": [
    "## Stacking data in `pandas` with `gather`\n",
    "\n",
    "Syntax: `gather(lbl_col_name, val_col_name, cols_to_stack)`"
   ]
  },
  {
   "cell_type": "code",
   "execution_count": 3,
   "metadata": {
    "slideshow": {
     "slide_type": "fragment"
    }
   },
   "outputs": [
    {
     "output_type": "execute_result",
     "data": {
      "text/plain": [
       "  Salesperson  CarType  QrtSales\n",
       "0         Ann  Compact      22.0\n",
       "1         Bob  Compact      19.0\n",
       "2        Doug  Compact      20.0\n",
       "3     Yolanda  Compact      19.0\n",
       "4      Xerxes  Compact      12.0"
      ],
      "text/html": "<div>\n<style scoped>\n    .dataframe tbody tr th:only-of-type {\n        vertical-align: middle;\n    }\n\n    .dataframe tbody tr th {\n        vertical-align: top;\n    }\n\n    .dataframe thead th {\n        text-align: right;\n    }\n</style>\n<table border=\"1\" class=\"dataframe\">\n  <thead>\n    <tr style=\"text-align: right;\">\n      <th></th>\n      <th>Salesperson</th>\n      <th>CarType</th>\n      <th>QrtSales</th>\n    </tr>\n  </thead>\n  <tbody>\n    <tr>\n      <th>0</th>\n      <td>Ann</td>\n      <td>Compact</td>\n      <td>22.0</td>\n    </tr>\n    <tr>\n      <th>1</th>\n      <td>Bob</td>\n      <td>Compact</td>\n      <td>19.0</td>\n    </tr>\n    <tr>\n      <th>2</th>\n      <td>Doug</td>\n      <td>Compact</td>\n      <td>20.0</td>\n    </tr>\n    <tr>\n      <th>3</th>\n      <td>Yolanda</td>\n      <td>Compact</td>\n      <td>19.0</td>\n    </tr>\n    <tr>\n      <th>4</th>\n      <td>Xerxes</td>\n      <td>Compact</td>\n      <td>12.0</td>\n    </tr>\n  </tbody>\n</table>\n</div>"
     },
     "metadata": {},
     "execution_count": 3
    }
   ],
   "source": [
    "sales_cols = ['Compact', 'Sedan', 'SUV', 'Truck']\n",
    "sales_stacked = (sales \n",
    "                 >> gather(\"CarType\",\"QrtSales\", sales_cols))\n",
    "sales_stacked >> head"
   ]
  },
  {
   "cell_type": "markdown",
   "metadata": {
    "slideshow": {
     "slide_type": "slide"
    }
   },
   "source": [
    "## Unstacking Data with `spread`\n",
    "\n",
    "Syntax: `spread(split_by_col, to_split_col)`"
   ]
  },
  {
   "cell_type": "code",
   "execution_count": 4,
   "metadata": {
    "slideshow": {
     "slide_type": "fragment"
    }
   },
   "outputs": [
    {
     "output_type": "execute_result",
     "data": {
      "text/plain": [
       "  Salesperson  Compact   SUV  Sedan  Truck\n",
       "0         Ann     22.0  15.0   18.0   12.0\n",
       "1         Bob     19.0  17.0   12.0   20.0\n",
       "2        Doug     20.0   NaN   13.0   20.0\n",
       "3      Xerxes     12.0  18.0   23.0    9.0\n",
       "4     Yolanda     19.0  32.0    8.0   15.0"
      ],
      "text/html": "<div>\n<style scoped>\n    .dataframe tbody tr th:only-of-type {\n        vertical-align: middle;\n    }\n\n    .dataframe tbody tr th {\n        vertical-align: top;\n    }\n\n    .dataframe thead th {\n        text-align: right;\n    }\n</style>\n<table border=\"1\" class=\"dataframe\">\n  <thead>\n    <tr style=\"text-align: right;\">\n      <th></th>\n      <th>Salesperson</th>\n      <th>Compact</th>\n      <th>SUV</th>\n      <th>Sedan</th>\n      <th>Truck</th>\n    </tr>\n  </thead>\n  <tbody>\n    <tr>\n      <th>0</th>\n      <td>Ann</td>\n      <td>22.0</td>\n      <td>15.0</td>\n      <td>18.0</td>\n      <td>12.0</td>\n    </tr>\n    <tr>\n      <th>1</th>\n      <td>Bob</td>\n      <td>19.0</td>\n      <td>17.0</td>\n      <td>12.0</td>\n      <td>20.0</td>\n    </tr>\n    <tr>\n      <th>2</th>\n      <td>Doug</td>\n      <td>20.0</td>\n      <td>NaN</td>\n      <td>13.0</td>\n      <td>20.0</td>\n    </tr>\n    <tr>\n      <th>3</th>\n      <td>Xerxes</td>\n      <td>12.0</td>\n      <td>18.0</td>\n      <td>23.0</td>\n      <td>9.0</td>\n    </tr>\n    <tr>\n      <th>4</th>\n      <td>Yolanda</td>\n      <td>19.0</td>\n      <td>32.0</td>\n      <td>8.0</td>\n      <td>15.0</td>\n    </tr>\n  </tbody>\n</table>\n</div>"
     },
     "metadata": {},
     "execution_count": 4
    }
   ],
   "source": [
    "(sales_stacked\n",
    " >> spread(X.CarType, X.QrtSales))"
   ]
  },
  {
   "cell_type": "markdown",
   "metadata": {
    "slideshow": {
     "slide_type": "slide"
    }
   },
   "source": [
    "## Safely working with `gather` and `spread`\n",
    "\n",
    "\n",
    "We were lucky the last example worked.  Note that \n",
    "\n",
    "* `spread` needs a unique column to work properly.  \n",
    "* `gather` will add a column by setting `add_id=True`"
   ]
  },
  {
   "cell_type": "code",
   "execution_count": 5,
   "metadata": {
    "slideshow": {
     "slide_type": "fragment"
    }
   },
   "outputs": [
    {
     "output_type": "execute_result",
     "data": {
      "text/plain": [
       "  Salesperson  _ID  CarType  QrtSales\n",
       "0         Ann    0  Compact      22.0\n",
       "1         Bob    1  Compact      19.0"
      ],
      "text/html": "<div>\n<style scoped>\n    .dataframe tbody tr th:only-of-type {\n        vertical-align: middle;\n    }\n\n    .dataframe tbody tr th {\n        vertical-align: top;\n    }\n\n    .dataframe thead th {\n        text-align: right;\n    }\n</style>\n<table border=\"1\" class=\"dataframe\">\n  <thead>\n    <tr style=\"text-align: right;\">\n      <th></th>\n      <th>Salesperson</th>\n      <th>_ID</th>\n      <th>CarType</th>\n      <th>QrtSales</th>\n    </tr>\n  </thead>\n  <tbody>\n    <tr>\n      <th>0</th>\n      <td>Ann</td>\n      <td>0</td>\n      <td>Compact</td>\n      <td>22.0</td>\n    </tr>\n    <tr>\n      <th>1</th>\n      <td>Bob</td>\n      <td>1</td>\n      <td>Compact</td>\n      <td>19.0</td>\n    </tr>\n  </tbody>\n</table>\n</div>"
     },
     "metadata": {},
     "execution_count": 5
    }
   ],
   "source": [
    "sales_stacked = sales >> gather(\"CarType\",\"QrtSales\", sales_cols, add_id=True)\n",
    "sales_stacked >> head(2)"
   ]
  },
  {
   "cell_type": "code",
   "execution_count": 7,
   "metadata": {
    "slideshow": {
     "slide_type": "fragment"
    }
   },
   "outputs": [
    {
     "data": {
      "text/html": [
       "<div>\n",
       "<style scoped>\n",
       "    .dataframe tbody tr th:only-of-type {\n",
       "        vertical-align: middle;\n",
       "    }\n",
       "\n",
       "    .dataframe tbody tr th {\n",
       "        vertical-align: top;\n",
       "    }\n",
       "\n",
       "    .dataframe thead th {\n",
       "        text-align: right;\n",
       "    }\n",
       "</style>\n",
       "<table border=\"1\" class=\"dataframe\">\n",
       "  <thead>\n",
       "    <tr style=\"text-align: right;\">\n",
       "      <th></th>\n",
       "      <th>Salesperson</th>\n",
       "      <th>_ID</th>\n",
       "      <th>Compact</th>\n",
       "      <th>SUV</th>\n",
       "      <th>Sedan</th>\n",
       "      <th>Truck</th>\n",
       "    </tr>\n",
       "  </thead>\n",
       "  <tbody>\n",
       "    <tr>\n",
       "      <th>0</th>\n",
       "      <td>Ann</td>\n",
       "      <td>0</td>\n",
       "      <td>22.0</td>\n",
       "      <td>15.0</td>\n",
       "      <td>18.0</td>\n",
       "      <td>12.0</td>\n",
       "    </tr>\n",
       "    <tr>\n",
       "      <th>1</th>\n",
       "      <td>Bob</td>\n",
       "      <td>1</td>\n",
       "      <td>19.0</td>\n",
       "      <td>17.0</td>\n",
       "      <td>12.0</td>\n",
       "      <td>20.0</td>\n",
       "    </tr>\n",
       "  </tbody>\n",
       "</table>\n",
       "</div>"
      ],
      "text/plain": [
       "  Salesperson  _ID  Compact   SUV  Sedan  Truck\n",
       "0         Ann    0     22.0  15.0   18.0   12.0\n",
       "1         Bob    1     19.0  17.0   12.0   20.0"
      ]
     },
     "execution_count": 7,
     "metadata": {},
     "output_type": "execute_result"
    }
   ],
   "source": [
    "sales_stacked >> spread(X.CarType, X.QrtSales) >> head(2)"
   ]
  },
  {
   "cell_type": "markdown",
   "metadata": {
    "slideshow": {
     "slide_type": "slide"
    }
   },
   "source": [
    "## Why Stack?\n",
    "\n",
    "* Perform transformations on many columns.\n",
    "* Fix problems with the Golden Rule"
   ]
  },
  {
   "cell_type": "markdown",
   "metadata": {
    "slideshow": {
     "slide_type": "slide"
    }
   },
   "source": [
    "## Example - Switching Units on All Sales\n",
    "\n",
    "Suppose your manager wants these numbers in *monthly* sales.  You could\n",
    "\n",
    "1. Adjust each column with a separate formula\n",
    "2. Stack --> Transform once --> Unstack"
   ]
  },
  {
   "cell_type": "markdown",
   "metadata": {
    "slideshow": {
     "slide_type": "slide"
    }
   },
   "source": [
    "#### Method 1 - Column Transformations"
   ]
  },
  {
   "cell_type": "code",
   "execution_count": 6,
   "metadata": {
    "slideshow": {
     "slide_type": "fragment"
    }
   },
   "outputs": [
    {
     "output_type": "execute_result",
     "data": {
      "text/plain": [
       "  Salesperson   Compact  Sedan       SUV     Truck\n",
       "0         Ann  7.333333    6.0  5.000000  4.000000\n",
       "1         Bob  6.333333    4.0  5.666667  6.666667"
      ],
      "text/html": "<div>\n<style scoped>\n    .dataframe tbody tr th:only-of-type {\n        vertical-align: middle;\n    }\n\n    .dataframe tbody tr th {\n        vertical-align: top;\n    }\n\n    .dataframe thead th {\n        text-align: right;\n    }\n</style>\n<table border=\"1\" class=\"dataframe\">\n  <thead>\n    <tr style=\"text-align: right;\">\n      <th></th>\n      <th>Salesperson</th>\n      <th>Compact</th>\n      <th>Sedan</th>\n      <th>SUV</th>\n      <th>Truck</th>\n    </tr>\n  </thead>\n  <tbody>\n    <tr>\n      <th>0</th>\n      <td>Ann</td>\n      <td>7.333333</td>\n      <td>6.0</td>\n      <td>5.000000</td>\n      <td>4.000000</td>\n    </tr>\n    <tr>\n      <th>1</th>\n      <td>Bob</td>\n      <td>6.333333</td>\n      <td>4.0</td>\n      <td>5.666667</td>\n      <td>6.666667</td>\n    </tr>\n  </tbody>\n</table>\n</div>"
     },
     "metadata": {},
     "execution_count": 6
    }
   ],
   "source": [
    "(sales\n",
    " >> mutate(Compact = X.Compact/3,\n",
    "           SUV =   X.SUV/3,\n",
    "           Sedan = X.Sedan/3,\n",
    "           Truck = X.Truck/3)\n",
    " >> head(2))"
   ]
  },
  {
   "cell_type": "markdown",
   "metadata": {
    "slideshow": {
     "slide_type": "slide"
    }
   },
   "source": [
    "#### Method 2 - Stack-Transform-Unstack"
   ]
  },
  {
   "cell_type": "code",
   "execution_count": 7,
   "metadata": {
    "slideshow": {
     "slide_type": "fragment"
    }
   },
   "outputs": [
    {
     "output_type": "execute_result",
     "data": {
      "text/plain": [
       "  Salesperson   Compact       SUV  Sedan     Truck\n",
       "0         Ann  7.333333  5.000000    6.0  4.000000\n",
       "1         Bob  6.333333  5.666667    4.0  6.666667"
      ],
      "text/html": "<div>\n<style scoped>\n    .dataframe tbody tr th:only-of-type {\n        vertical-align: middle;\n    }\n\n    .dataframe tbody tr th {\n        vertical-align: top;\n    }\n\n    .dataframe thead th {\n        text-align: right;\n    }\n</style>\n<table border=\"1\" class=\"dataframe\">\n  <thead>\n    <tr style=\"text-align: right;\">\n      <th></th>\n      <th>Salesperson</th>\n      <th>Compact</th>\n      <th>SUV</th>\n      <th>Sedan</th>\n      <th>Truck</th>\n    </tr>\n  </thead>\n  <tbody>\n    <tr>\n      <th>0</th>\n      <td>Ann</td>\n      <td>7.333333</td>\n      <td>5.000000</td>\n      <td>6.0</td>\n      <td>4.000000</td>\n    </tr>\n    <tr>\n      <th>1</th>\n      <td>Bob</td>\n      <td>6.333333</td>\n      <td>5.666667</td>\n      <td>4.0</td>\n      <td>6.666667</td>\n    </tr>\n  </tbody>\n</table>\n</div>"
     },
     "metadata": {},
     "execution_count": 7
    }
   ],
   "source": [
    "(sales \n",
    " >> gather(\"CarType\",\"QrtSales\", sales_cols)\n",
    " >> mutate(MonSales = X.QrtSales/3)\n",
    " >> drop(X.QrtSales)\n",
    " >> spread(X.CarType, X.MonSales)\n",
    " >> head(2))"
   ]
  },
  {
   "cell_type": "markdown",
   "metadata": {
    "slideshow": {
     "slide_type": "slide"
    }
   },
   "source": [
    "## Comparing the two methods\n",
    "\n",
    "**Method 1:**\n",
    "* More straight forward\n",
    "* Lots of repeated code\n",
    "* Doesn't scale ... imagine 100+ columns\n",
    "\n",
    "**Method 2:**\n",
    "* More complicated\n",
    "* Scales well\n"
   ]
  },
  {
   "cell_type": "markdown",
   "metadata": {
    "slideshow": {
     "slide_type": "slide"
    }
   },
   "source": [
    "## <font color=\"red\"> Exercise 1 </font>\n",
    "    \n",
    "**Task:** Load the `health_survey.csv` data and use the Stack-Transform-Unstack trick to transform the responses to a Lickert scale where *Strongly Agree* mapped to 5 and *Strongly Disagree* mapped to 1\n"
   ]
  },
  {
   "cell_type": "code",
   "execution_count": 20,
   "metadata": {
    "slideshow": {
     "slide_type": "fragment"
    }
   },
   "outputs": [
    {
     "output_type": "execute_result",
     "data": {
      "text/plain": [
       "   Unnamed: 0              F1                 F5              F2  \\\n",
       "0           1  Somewhat Agree  Somewhat Disagree  Somewhat Agree   \n",
       "1           2  Somewhat Agree  Somewhat Disagree  Somewhat Agree   \n",
       "\n",
       "             F1.1            F2.1                 F6              F4  \\\n",
       "0  Somewhat Agree  Somewhat Agree  Somewhat Disagree  Somewhat Agree   \n",
       "1  Somewhat Agree  Somewhat Agree  Somewhat Disagree  Somewhat Agree   \n",
       "\n",
       "                           F3                        F5.1  ...  \\\n",
       "0              Somewhat Agree              Somewhat Agree  ...   \n",
       "1  Neither Agree nor Disagree  Neither Agree nor Disagree  ...   \n",
       "\n",
       "             F2.9               F3.4                        F4.3  \\\n",
       "0  Somewhat Agree  Somewhat Disagree  Neither Agree nor Disagree   \n",
       "1  Somewhat Agree     Somewhat Agree  Neither Agree nor Disagree   \n",
       "\n",
       "            F2.10            F1.7               F6.4  \\\n",
       "0  Somewhat Agree  Somewhat Agree     Somewhat Agree   \n",
       "1  Somewhat Agree  Somewhat Agree  Somewhat Disagree   \n",
       "\n",
       "                         F4.4            F5.7                        F3.5  \\\n",
       "0              Somewhat Agree  Somewhat Agree              Somewhat Agree   \n",
       "1  Neither Agree nor Disagree  Somewhat Agree  Neither Agree nor Disagree   \n",
       "\n",
       "            F2.11  \n",
       "0  Somewhat Agree  \n",
       "1  Somewhat Agree  \n",
       "\n",
       "[2 rows x 45 columns]"
      ],
      "text/html": "<div>\n<style scoped>\n    .dataframe tbody tr th:only-of-type {\n        vertical-align: middle;\n    }\n\n    .dataframe tbody tr th {\n        vertical-align: top;\n    }\n\n    .dataframe thead th {\n        text-align: right;\n    }\n</style>\n<table border=\"1\" class=\"dataframe\">\n  <thead>\n    <tr style=\"text-align: right;\">\n      <th></th>\n      <th>Unnamed: 0</th>\n      <th>F1</th>\n      <th>F5</th>\n      <th>F2</th>\n      <th>F1.1</th>\n      <th>F2.1</th>\n      <th>F6</th>\n      <th>F4</th>\n      <th>F3</th>\n      <th>F5.1</th>\n      <th>...</th>\n      <th>F2.9</th>\n      <th>F3.4</th>\n      <th>F4.3</th>\n      <th>F2.10</th>\n      <th>F1.7</th>\n      <th>F6.4</th>\n      <th>F4.4</th>\n      <th>F5.7</th>\n      <th>F3.5</th>\n      <th>F2.11</th>\n    </tr>\n  </thead>\n  <tbody>\n    <tr>\n      <th>0</th>\n      <td>1</td>\n      <td>Somewhat Agree</td>\n      <td>Somewhat Disagree</td>\n      <td>Somewhat Agree</td>\n      <td>Somewhat Agree</td>\n      <td>Somewhat Agree</td>\n      <td>Somewhat Disagree</td>\n      <td>Somewhat Agree</td>\n      <td>Somewhat Agree</td>\n      <td>Somewhat Agree</td>\n      <td>...</td>\n      <td>Somewhat Agree</td>\n      <td>Somewhat Disagree</td>\n      <td>Neither Agree nor Disagree</td>\n      <td>Somewhat Agree</td>\n      <td>Somewhat Agree</td>\n      <td>Somewhat Agree</td>\n      <td>Somewhat Agree</td>\n      <td>Somewhat Agree</td>\n      <td>Somewhat Agree</td>\n      <td>Somewhat Agree</td>\n    </tr>\n    <tr>\n      <th>1</th>\n      <td>2</td>\n      <td>Somewhat Agree</td>\n      <td>Somewhat Disagree</td>\n      <td>Somewhat Agree</td>\n      <td>Somewhat Agree</td>\n      <td>Somewhat Agree</td>\n      <td>Somewhat Disagree</td>\n      <td>Somewhat Agree</td>\n      <td>Neither Agree nor Disagree</td>\n      <td>Neither Agree nor Disagree</td>\n      <td>...</td>\n      <td>Somewhat Agree</td>\n      <td>Somewhat Agree</td>\n      <td>Neither Agree nor Disagree</td>\n      <td>Somewhat Agree</td>\n      <td>Somewhat Agree</td>\n      <td>Somewhat Disagree</td>\n      <td>Neither Agree nor Disagree</td>\n      <td>Somewhat Agree</td>\n      <td>Neither Agree nor Disagree</td>\n      <td>Somewhat Agree</td>\n    </tr>\n  </tbody>\n</table>\n<p>2 rows × 45 columns</p>\n</div>"
     },
     "metadata": {},
     "execution_count": 20
    }
   ],
   "source": [
    "survey = pd.read_csv(\"./data/health_survey.csv\")\n",
    "survey.head(2)"
   ]
  },
  {
   "cell_type": "code",
   "execution_count": 29,
   "metadata": {},
   "outputs": [
    {
     "output_type": "stream",
     "name": "stdout",
     "text": [
      "<class 'pandas.core.frame.DataFrame'>\nRangeIndex: 264 entries, 0 to 263\nData columns (total 45 columns):\n #   Column      Non-Null Count  Dtype \n---  ------      --------------  ----- \n 0   Unnamed: 0  264 non-null    int64 \n 1   F1          264 non-null    object\n 2   F5          261 non-null    object\n 3   F2          262 non-null    object\n 4   F1.1        264 non-null    object\n 5   F2.1        263 non-null    object\n 6   F6          264 non-null    object\n 7   F4          264 non-null    object\n 8   F3          263 non-null    object\n 9   F5.1        264 non-null    object\n 10  F1.2        264 non-null    object\n 11  F2.2        264 non-null    object\n 12  F6.1        263 non-null    object\n 13  F2.3        264 non-null    object\n 14  F4.1        264 non-null    object\n 15  F2.4        262 non-null    object\n 16  F5.2        263 non-null    object\n 17  F2.5        264 non-null    object\n 18  F6.2        264 non-null    object\n 19  F1.3        264 non-null    object\n 20  F2.6        264 non-null    object\n 21  F5.3        264 non-null    object\n 22  F4.2        264 non-null    object\n 23  F2.7        256 non-null    object\n 24  F3.1        263 non-null    object\n 25  F2.8        263 non-null    object\n 26  F5.4        263 non-null    object\n 27  F3.2        264 non-null    object\n 28  F1.4        264 non-null    object\n 29  F3.3        264 non-null    object\n 30  F1.5        263 non-null    object\n 31  F5.5        263 non-null    object\n 32  F6.3        264 non-null    object\n 33  F1.6        264 non-null    object\n 34  F5.6        264 non-null    object\n 35  F2.9        264 non-null    object\n 36  F3.4        264 non-null    object\n 37  F4.3        264 non-null    object\n 38  F2.10       264 non-null    object\n 39  F1.7        263 non-null    object\n 40  F6.4        263 non-null    object\n 41  F4.4        264 non-null    object\n 42  F5.7        263 non-null    object\n 43  F3.5        264 non-null    object\n 44  F2.11       264 non-null    object\ndtypes: int64(1), object(44)\nmemory usage: 92.9+ KB\n"
     ]
    }
   ],
   "source": [
    "survey.info()"
   ]
  },
  {
   "cell_type": "code",
   "execution_count": 14,
   "metadata": {},
   "outputs": [
    {
     "output_type": "execute_result",
     "data": {
      "text/plain": [
       "Index(['F1', 'F5', 'F2', 'F1.1', 'F2.1', 'F6', 'F4', 'F3', 'F5.1', 'F1.2',\n",
       "       'F2.2', 'F6.1', 'F2.3', 'F4.1', 'F2.4', 'F5.2', 'F2.5', 'F6.2', 'F1.3',\n",
       "       'F2.6', 'F5.3', 'F4.2', 'F2.7', 'F3.1', 'F2.8', 'F5.4', 'F3.2', 'F1.4',\n",
       "       'F3.3', 'F1.5', 'F5.5', 'F6.3', 'F1.6', 'F5.6', 'F2.9', 'F3.4', 'F4.3',\n",
       "       'F2.10', 'F1.7', 'F6.4', 'F4.4', 'F5.7', 'F3.5', 'F2.11'],\n",
       "      dtype='object')"
      ]
     },
     "metadata": {},
     "execution_count": 14
    }
   ],
   "source": [
    "survey.columns[1:]"
   ]
  },
  {
   "cell_type": "code",
   "execution_count": 16,
   "metadata": {},
   "outputs": [],
   "source": [
    "survey_cols = survey.columns[1:]\n"
   ]
  },
  {
   "cell_type": "code",
   "execution_count": 40,
   "metadata": {},
   "outputs": [
    {
     "output_type": "execute_result",
     "data": {
      "text/plain": [
       "       User Response                      Rating\n",
       "0         1       F1              Somewhat Agree\n",
       "1         2       F1              Somewhat Agree\n",
       "2         3       F1              Strongly Agree\n",
       "3         4       F1              Somewhat Agree\n",
       "4         5       F1              Strongly Agree\n",
       "...     ...      ...                         ...\n",
       "11611   260    F2.11  Neither Agree nor Disagree\n",
       "11612   261    F2.11              Somewhat Agree\n",
       "11613   262    F2.11              Somewhat Agree\n",
       "11614   263    F2.11              Somewhat Agree\n",
       "11615   264    F2.11              Somewhat Agree\n",
       "\n",
       "[11616 rows x 3 columns]"
      ],
      "text/html": "<div>\n<style scoped>\n    .dataframe tbody tr th:only-of-type {\n        vertical-align: middle;\n    }\n\n    .dataframe tbody tr th {\n        vertical-align: top;\n    }\n\n    .dataframe thead th {\n        text-align: right;\n    }\n</style>\n<table border=\"1\" class=\"dataframe\">\n  <thead>\n    <tr style=\"text-align: right;\">\n      <th></th>\n      <th>User</th>\n      <th>Response</th>\n      <th>Rating</th>\n    </tr>\n  </thead>\n  <tbody>\n    <tr>\n      <th>0</th>\n      <td>1</td>\n      <td>F1</td>\n      <td>Somewhat Agree</td>\n    </tr>\n    <tr>\n      <th>1</th>\n      <td>2</td>\n      <td>F1</td>\n      <td>Somewhat Agree</td>\n    </tr>\n    <tr>\n      <th>2</th>\n      <td>3</td>\n      <td>F1</td>\n      <td>Strongly Agree</td>\n    </tr>\n    <tr>\n      <th>3</th>\n      <td>4</td>\n      <td>F1</td>\n      <td>Somewhat Agree</td>\n    </tr>\n    <tr>\n      <th>4</th>\n      <td>5</td>\n      <td>F1</td>\n      <td>Strongly Agree</td>\n    </tr>\n    <tr>\n      <th>...</th>\n      <td>...</td>\n      <td>...</td>\n      <td>...</td>\n    </tr>\n    <tr>\n      <th>11611</th>\n      <td>260</td>\n      <td>F2.11</td>\n      <td>Neither Agree nor Disagree</td>\n    </tr>\n    <tr>\n      <th>11612</th>\n      <td>261</td>\n      <td>F2.11</td>\n      <td>Somewhat Agree</td>\n    </tr>\n    <tr>\n      <th>11613</th>\n      <td>262</td>\n      <td>F2.11</td>\n      <td>Somewhat Agree</td>\n    </tr>\n    <tr>\n      <th>11614</th>\n      <td>263</td>\n      <td>F2.11</td>\n      <td>Somewhat Agree</td>\n    </tr>\n    <tr>\n      <th>11615</th>\n      <td>264</td>\n      <td>F2.11</td>\n      <td>Somewhat Agree</td>\n    </tr>\n  </tbody>\n</table>\n<p>11616 rows × 3 columns</p>\n</div>"
     },
     "metadata": {},
     "execution_count": 40
    }
   ],
   "source": [
    "survey_gather = (survey\n",
    "                >> rename(User = X[\"Unnamed: 0\"])\n",
    "                >> gather(\"Response\",\"Rating\", survey_cols))\n",
    "\n",
    "survey_gather"
   ]
  },
  {
   "cell_type": "code",
   "execution_count": 48,
   "metadata": {},
   "outputs": [
    {
     "output_type": "stream",
     "name": "stderr",
     "text": [
      "/home/sandrews/.pyenv/versions/anaconda3-2020.02/lib/python3.7/site-packages/dfply/vector.py:110: FutureWarning: The 'lookup' method is deprecated and will beremoved in a future version.You can use DataFrame.melt and DataFrame.locas a substitute.\n  return coalescer.lookup(np.arange(coalescer.shape[0]), min_nonna)\n"
     ]
    },
    {
     "output_type": "execute_result",
     "data": {
      "text/plain": [
       "       User Response                      Rating  Lickert\n",
       "0         1       F1              Somewhat Agree      4.0\n",
       "1         2       F1              Somewhat Agree      4.0\n",
       "2         3       F1              Strongly Agree      5.0\n",
       "3         4       F1              Somewhat Agree      4.0\n",
       "4         5       F1              Strongly Agree      5.0\n",
       "...     ...      ...                         ...      ...\n",
       "11611   260    F2.11  Neither Agree nor Disagree      3.0\n",
       "11612   261    F2.11              Somewhat Agree      4.0\n",
       "11613   262    F2.11              Somewhat Agree      4.0\n",
       "11614   263    F2.11              Somewhat Agree      4.0\n",
       "11615   264    F2.11              Somewhat Agree      4.0\n",
       "\n",
       "[11616 rows x 4 columns]"
      ],
      "text/html": "<div>\n<style scoped>\n    .dataframe tbody tr th:only-of-type {\n        vertical-align: middle;\n    }\n\n    .dataframe tbody tr th {\n        vertical-align: top;\n    }\n\n    .dataframe thead th {\n        text-align: right;\n    }\n</style>\n<table border=\"1\" class=\"dataframe\">\n  <thead>\n    <tr style=\"text-align: right;\">\n      <th></th>\n      <th>User</th>\n      <th>Response</th>\n      <th>Rating</th>\n      <th>Lickert</th>\n    </tr>\n  </thead>\n  <tbody>\n    <tr>\n      <th>0</th>\n      <td>1</td>\n      <td>F1</td>\n      <td>Somewhat Agree</td>\n      <td>4.0</td>\n    </tr>\n    <tr>\n      <th>1</th>\n      <td>2</td>\n      <td>F1</td>\n      <td>Somewhat Agree</td>\n      <td>4.0</td>\n    </tr>\n    <tr>\n      <th>2</th>\n      <td>3</td>\n      <td>F1</td>\n      <td>Strongly Agree</td>\n      <td>5.0</td>\n    </tr>\n    <tr>\n      <th>3</th>\n      <td>4</td>\n      <td>F1</td>\n      <td>Somewhat Agree</td>\n      <td>4.0</td>\n    </tr>\n    <tr>\n      <th>4</th>\n      <td>5</td>\n      <td>F1</td>\n      <td>Strongly Agree</td>\n      <td>5.0</td>\n    </tr>\n    <tr>\n      <th>...</th>\n      <td>...</td>\n      <td>...</td>\n      <td>...</td>\n      <td>...</td>\n    </tr>\n    <tr>\n      <th>11611</th>\n      <td>260</td>\n      <td>F2.11</td>\n      <td>Neither Agree nor Disagree</td>\n      <td>3.0</td>\n    </tr>\n    <tr>\n      <th>11612</th>\n      <td>261</td>\n      <td>F2.11</td>\n      <td>Somewhat Agree</td>\n      <td>4.0</td>\n    </tr>\n    <tr>\n      <th>11613</th>\n      <td>262</td>\n      <td>F2.11</td>\n      <td>Somewhat Agree</td>\n      <td>4.0</td>\n    </tr>\n    <tr>\n      <th>11614</th>\n      <td>263</td>\n      <td>F2.11</td>\n      <td>Somewhat Agree</td>\n      <td>4.0</td>\n    </tr>\n    <tr>\n      <th>11615</th>\n      <td>264</td>\n      <td>F2.11</td>\n      <td>Somewhat Agree</td>\n      <td>4.0</td>\n    </tr>\n  </tbody>\n</table>\n<p>11616 rows × 4 columns</p>\n</div>"
     },
     "metadata": {},
     "execution_count": 48
    }
   ],
   "source": [
    "survey_gather = (survey\n",
    "                >> rename(User = X[\"Unnamed: 0\"])\n",
    "                >> gather(\"Response\",\"Rating\", survey_cols)\n",
    "                #>> filter_by(X.User == 1))\n",
    "                >> mutate(Lickert = case_when(\n",
    "                    #(X[\"Country2\"].eq(\"Guadeloupe\") == True, \"France\"),\n",
    "                    (X[\"Rating\"] == \"Strongly Agree\", 5),\n",
    "                    (X[\"Rating\"] == \"Somewhat Agree\", 4),\n",
    "                    (X[\"Rating\"] == \"Neither Agree nor Disagree\", 3),\n",
    "                    (X[\"Rating\"] == \"Somewhat Disagree\", 2),\n",
    "                    (X[\"Rating\"] == \"Strongly Disagree\", 1)\n",
    "                )\n",
    "                )\n",
    ")\n",
    "\n",
    "survey_gather"
   ]
  },
  {
   "cell_type": "code",
   "execution_count": 50,
   "metadata": {},
   "outputs": [
    {
     "output_type": "execute_result",
     "data": {
      "text/plain": [
       "     User   F1  F1.1  F1.2  F1.3  F1.4  F1.5  F1.6  F1.7   F2  ...  F5.3  \\\n",
       "0       1  4.0   4.0   4.0   4.0   3.0   4.0   4.0   4.0  4.0  ...   4.0   \n",
       "1       2  4.0   4.0   4.0   4.0   4.0   3.0   4.0   4.0  4.0  ...   4.0   \n",
       "2       3  5.0   5.0   5.0   5.0   2.0   5.0   5.0   4.0  4.0  ...   4.0   \n",
       "3       4  4.0   4.0   5.0   4.0   3.0   4.0   5.0   3.0  5.0  ...   4.0   \n",
       "4       5  5.0   5.0   5.0   5.0   4.0   4.0   5.0   4.0  3.0  ...   5.0   \n",
       "..    ...  ...   ...   ...   ...   ...   ...   ...   ...  ...  ...   ...   \n",
       "259   260  4.0   3.0   5.0   4.0   4.0   4.0   5.0   3.0  4.0  ...   4.0   \n",
       "260   261  4.0   5.0   4.0   4.0   3.0   4.0   4.0   3.0  5.0  ...   4.0   \n",
       "261   262  4.0   5.0   5.0   3.0   2.0   4.0   5.0   2.0  4.0  ...   4.0   \n",
       "262   263  5.0   5.0   5.0   5.0   4.0   5.0   5.0   4.0  5.0  ...   2.0   \n",
       "263   264  4.0   4.0   5.0   4.0   4.0   4.0   4.0   4.0  5.0  ...   4.0   \n",
       "\n",
       "     F5.4  F5.5  F5.6  F5.7   F6  F6.1  F6.2  F6.3  F6.4  \n",
       "0     4.0   2.0   4.0   4.0  2.0   4.0   4.0   2.0   4.0  \n",
       "1     3.0   3.0   2.0   4.0  2.0   4.0   4.0   2.0   2.0  \n",
       "2     4.0   2.0   2.0   5.0  2.0   3.0   4.0   2.0   4.0  \n",
       "3     4.0   2.0   2.0   4.0  3.0   4.0   4.0   4.0   3.0  \n",
       "4     3.0   1.0   1.0   5.0  1.0   4.0   5.0   3.0   4.0  \n",
       "..    ...   ...   ...   ...  ...   ...   ...   ...   ...  \n",
       "259   4.0   1.0   1.0   4.0  1.0   4.0   5.0   1.0   3.0  \n",
       "260   4.0   2.0   3.0   4.0  2.0   4.0   3.0   2.0   NaN  \n",
       "261   4.0   1.0   1.0   3.0  2.0   4.0   4.0   2.0   3.0  \n",
       "262   2.0   2.0   1.0   5.0  2.0   4.0   5.0   2.0   2.0  \n",
       "263   3.0   1.0   2.0   5.0  3.0   4.0   4.0   3.0   3.0  \n",
       "\n",
       "[264 rows x 45 columns]"
      ],
      "text/html": "<div>\n<style scoped>\n    .dataframe tbody tr th:only-of-type {\n        vertical-align: middle;\n    }\n\n    .dataframe tbody tr th {\n        vertical-align: top;\n    }\n\n    .dataframe thead th {\n        text-align: right;\n    }\n</style>\n<table border=\"1\" class=\"dataframe\">\n  <thead>\n    <tr style=\"text-align: right;\">\n      <th></th>\n      <th>User</th>\n      <th>F1</th>\n      <th>F1.1</th>\n      <th>F1.2</th>\n      <th>F1.3</th>\n      <th>F1.4</th>\n      <th>F1.5</th>\n      <th>F1.6</th>\n      <th>F1.7</th>\n      <th>F2</th>\n      <th>...</th>\n      <th>F5.3</th>\n      <th>F5.4</th>\n      <th>F5.5</th>\n      <th>F5.6</th>\n      <th>F5.7</th>\n      <th>F6</th>\n      <th>F6.1</th>\n      <th>F6.2</th>\n      <th>F6.3</th>\n      <th>F6.4</th>\n    </tr>\n  </thead>\n  <tbody>\n    <tr>\n      <th>0</th>\n      <td>1</td>\n      <td>4.0</td>\n      <td>4.0</td>\n      <td>4.0</td>\n      <td>4.0</td>\n      <td>3.0</td>\n      <td>4.0</td>\n      <td>4.0</td>\n      <td>4.0</td>\n      <td>4.0</td>\n      <td>...</td>\n      <td>4.0</td>\n      <td>4.0</td>\n      <td>2.0</td>\n      <td>4.0</td>\n      <td>4.0</td>\n      <td>2.0</td>\n      <td>4.0</td>\n      <td>4.0</td>\n      <td>2.0</td>\n      <td>4.0</td>\n    </tr>\n    <tr>\n      <th>1</th>\n      <td>2</td>\n      <td>4.0</td>\n      <td>4.0</td>\n      <td>4.0</td>\n      <td>4.0</td>\n      <td>4.0</td>\n      <td>3.0</td>\n      <td>4.0</td>\n      <td>4.0</td>\n      <td>4.0</td>\n      <td>...</td>\n      <td>4.0</td>\n      <td>3.0</td>\n      <td>3.0</td>\n      <td>2.0</td>\n      <td>4.0</td>\n      <td>2.0</td>\n      <td>4.0</td>\n      <td>4.0</td>\n      <td>2.0</td>\n      <td>2.0</td>\n    </tr>\n    <tr>\n      <th>2</th>\n      <td>3</td>\n      <td>5.0</td>\n      <td>5.0</td>\n      <td>5.0</td>\n      <td>5.0</td>\n      <td>2.0</td>\n      <td>5.0</td>\n      <td>5.0</td>\n      <td>4.0</td>\n      <td>4.0</td>\n      <td>...</td>\n      <td>4.0</td>\n      <td>4.0</td>\n      <td>2.0</td>\n      <td>2.0</td>\n      <td>5.0</td>\n      <td>2.0</td>\n      <td>3.0</td>\n      <td>4.0</td>\n      <td>2.0</td>\n      <td>4.0</td>\n    </tr>\n    <tr>\n      <th>3</th>\n      <td>4</td>\n      <td>4.0</td>\n      <td>4.0</td>\n      <td>5.0</td>\n      <td>4.0</td>\n      <td>3.0</td>\n      <td>4.0</td>\n      <td>5.0</td>\n      <td>3.0</td>\n      <td>5.0</td>\n      <td>...</td>\n      <td>4.0</td>\n      <td>4.0</td>\n      <td>2.0</td>\n      <td>2.0</td>\n      <td>4.0</td>\n      <td>3.0</td>\n      <td>4.0</td>\n      <td>4.0</td>\n      <td>4.0</td>\n      <td>3.0</td>\n    </tr>\n    <tr>\n      <th>4</th>\n      <td>5</td>\n      <td>5.0</td>\n      <td>5.0</td>\n      <td>5.0</td>\n      <td>5.0</td>\n      <td>4.0</td>\n      <td>4.0</td>\n      <td>5.0</td>\n      <td>4.0</td>\n      <td>3.0</td>\n      <td>...</td>\n      <td>5.0</td>\n      <td>3.0</td>\n      <td>1.0</td>\n      <td>1.0</td>\n      <td>5.0</td>\n      <td>1.0</td>\n      <td>4.0</td>\n      <td>5.0</td>\n      <td>3.0</td>\n      <td>4.0</td>\n    </tr>\n    <tr>\n      <th>...</th>\n      <td>...</td>\n      <td>...</td>\n      <td>...</td>\n      <td>...</td>\n      <td>...</td>\n      <td>...</td>\n      <td>...</td>\n      <td>...</td>\n      <td>...</td>\n      <td>...</td>\n      <td>...</td>\n      <td>...</td>\n      <td>...</td>\n      <td>...</td>\n      <td>...</td>\n      <td>...</td>\n      <td>...</td>\n      <td>...</td>\n      <td>...</td>\n      <td>...</td>\n      <td>...</td>\n    </tr>\n    <tr>\n      <th>259</th>\n      <td>260</td>\n      <td>4.0</td>\n      <td>3.0</td>\n      <td>5.0</td>\n      <td>4.0</td>\n      <td>4.0</td>\n      <td>4.0</td>\n      <td>5.0</td>\n      <td>3.0</td>\n      <td>4.0</td>\n      <td>...</td>\n      <td>4.0</td>\n      <td>4.0</td>\n      <td>1.0</td>\n      <td>1.0</td>\n      <td>4.0</td>\n      <td>1.0</td>\n      <td>4.0</td>\n      <td>5.0</td>\n      <td>1.0</td>\n      <td>3.0</td>\n    </tr>\n    <tr>\n      <th>260</th>\n      <td>261</td>\n      <td>4.0</td>\n      <td>5.0</td>\n      <td>4.0</td>\n      <td>4.0</td>\n      <td>3.0</td>\n      <td>4.0</td>\n      <td>4.0</td>\n      <td>3.0</td>\n      <td>5.0</td>\n      <td>...</td>\n      <td>4.0</td>\n      <td>4.0</td>\n      <td>2.0</td>\n      <td>3.0</td>\n      <td>4.0</td>\n      <td>2.0</td>\n      <td>4.0</td>\n      <td>3.0</td>\n      <td>2.0</td>\n      <td>NaN</td>\n    </tr>\n    <tr>\n      <th>261</th>\n      <td>262</td>\n      <td>4.0</td>\n      <td>5.0</td>\n      <td>5.0</td>\n      <td>3.0</td>\n      <td>2.0</td>\n      <td>4.0</td>\n      <td>5.0</td>\n      <td>2.0</td>\n      <td>4.0</td>\n      <td>...</td>\n      <td>4.0</td>\n      <td>4.0</td>\n      <td>1.0</td>\n      <td>1.0</td>\n      <td>3.0</td>\n      <td>2.0</td>\n      <td>4.0</td>\n      <td>4.0</td>\n      <td>2.0</td>\n      <td>3.0</td>\n    </tr>\n    <tr>\n      <th>262</th>\n      <td>263</td>\n      <td>5.0</td>\n      <td>5.0</td>\n      <td>5.0</td>\n      <td>5.0</td>\n      <td>4.0</td>\n      <td>5.0</td>\n      <td>5.0</td>\n      <td>4.0</td>\n      <td>5.0</td>\n      <td>...</td>\n      <td>2.0</td>\n      <td>2.0</td>\n      <td>2.0</td>\n      <td>1.0</td>\n      <td>5.0</td>\n      <td>2.0</td>\n      <td>4.0</td>\n      <td>5.0</td>\n      <td>2.0</td>\n      <td>2.0</td>\n    </tr>\n    <tr>\n      <th>263</th>\n      <td>264</td>\n      <td>4.0</td>\n      <td>4.0</td>\n      <td>5.0</td>\n      <td>4.0</td>\n      <td>4.0</td>\n      <td>4.0</td>\n      <td>4.0</td>\n      <td>4.0</td>\n      <td>5.0</td>\n      <td>...</td>\n      <td>4.0</td>\n      <td>3.0</td>\n      <td>1.0</td>\n      <td>2.0</td>\n      <td>5.0</td>\n      <td>3.0</td>\n      <td>4.0</td>\n      <td>4.0</td>\n      <td>3.0</td>\n      <td>3.0</td>\n    </tr>\n  </tbody>\n</table>\n<p>264 rows × 45 columns</p>\n</div>"
     },
     "metadata": {},
     "execution_count": 50
    }
   ],
   "source": [
    "survey_spread = (survey_gather\n",
    ">> drop(X[\"Rating\"])\n",
    ">> spread(X.Response, X.Lickert)\n",
    "\n",
    ")\n",
    "survey_spread\n"
   ]
  },
  {
   "cell_type": "code",
   "execution_count": 51,
   "metadata": {},
   "outputs": [
    {
     "output_type": "stream",
     "name": "stderr",
     "text": [
      "/home/sandrews/.pyenv/versions/anaconda3-2020.02/lib/python3.7/site-packages/dfply/vector.py:110: FutureWarning: The 'lookup' method is deprecated and will beremoved in a future version.You can use DataFrame.melt and DataFrame.locas a substitute.\n  return coalescer.lookup(np.arange(coalescer.shape[0]), min_nonna)\n"
     ]
    },
    {
     "output_type": "execute_result",
     "data": {
      "text/plain": [
       "     User   F1  F1.1  F1.2  F1.3  F1.4  F1.5  F1.6  F1.7   F2  ...  F5.3  \\\n",
       "0       1  4.0   4.0   4.0   4.0   3.0   4.0   4.0   4.0  4.0  ...   4.0   \n",
       "1       2  4.0   4.0   4.0   4.0   4.0   3.0   4.0   4.0  4.0  ...   4.0   \n",
       "2       3  5.0   5.0   5.0   5.0   2.0   5.0   5.0   4.0  4.0  ...   4.0   \n",
       "3       4  4.0   4.0   5.0   4.0   3.0   4.0   5.0   3.0  5.0  ...   4.0   \n",
       "4       5  5.0   5.0   5.0   5.0   4.0   4.0   5.0   4.0  3.0  ...   5.0   \n",
       "..    ...  ...   ...   ...   ...   ...   ...   ...   ...  ...  ...   ...   \n",
       "259   260  4.0   3.0   5.0   4.0   4.0   4.0   5.0   3.0  4.0  ...   4.0   \n",
       "260   261  4.0   5.0   4.0   4.0   3.0   4.0   4.0   3.0  5.0  ...   4.0   \n",
       "261   262  4.0   5.0   5.0   3.0   2.0   4.0   5.0   2.0  4.0  ...   4.0   \n",
       "262   263  5.0   5.0   5.0   5.0   4.0   5.0   5.0   4.0  5.0  ...   2.0   \n",
       "263   264  4.0   4.0   5.0   4.0   4.0   4.0   4.0   4.0  5.0  ...   4.0   \n",
       "\n",
       "     F5.4  F5.5  F5.6  F5.7   F6  F6.1  F6.2  F6.3  F6.4  \n",
       "0     4.0   2.0   4.0   4.0  2.0   4.0   4.0   2.0   4.0  \n",
       "1     3.0   3.0   2.0   4.0  2.0   4.0   4.0   2.0   2.0  \n",
       "2     4.0   2.0   2.0   5.0  2.0   3.0   4.0   2.0   4.0  \n",
       "3     4.0   2.0   2.0   4.0  3.0   4.0   4.0   4.0   3.0  \n",
       "4     3.0   1.0   1.0   5.0  1.0   4.0   5.0   3.0   4.0  \n",
       "..    ...   ...   ...   ...  ...   ...   ...   ...   ...  \n",
       "259   4.0   1.0   1.0   4.0  1.0   4.0   5.0   1.0   3.0  \n",
       "260   4.0   2.0   3.0   4.0  2.0   4.0   3.0   2.0   NaN  \n",
       "261   4.0   1.0   1.0   3.0  2.0   4.0   4.0   2.0   3.0  \n",
       "262   2.0   2.0   1.0   5.0  2.0   4.0   5.0   2.0   2.0  \n",
       "263   3.0   1.0   2.0   5.0  3.0   4.0   4.0   3.0   3.0  \n",
       "\n",
       "[264 rows x 45 columns]"
      ],
      "text/html": "<div>\n<style scoped>\n    .dataframe tbody tr th:only-of-type {\n        vertical-align: middle;\n    }\n\n    .dataframe tbody tr th {\n        vertical-align: top;\n    }\n\n    .dataframe thead th {\n        text-align: right;\n    }\n</style>\n<table border=\"1\" class=\"dataframe\">\n  <thead>\n    <tr style=\"text-align: right;\">\n      <th></th>\n      <th>User</th>\n      <th>F1</th>\n      <th>F1.1</th>\n      <th>F1.2</th>\n      <th>F1.3</th>\n      <th>F1.4</th>\n      <th>F1.5</th>\n      <th>F1.6</th>\n      <th>F1.7</th>\n      <th>F2</th>\n      <th>...</th>\n      <th>F5.3</th>\n      <th>F5.4</th>\n      <th>F5.5</th>\n      <th>F5.6</th>\n      <th>F5.7</th>\n      <th>F6</th>\n      <th>F6.1</th>\n      <th>F6.2</th>\n      <th>F6.3</th>\n      <th>F6.4</th>\n    </tr>\n  </thead>\n  <tbody>\n    <tr>\n      <th>0</th>\n      <td>1</td>\n      <td>4.0</td>\n      <td>4.0</td>\n      <td>4.0</td>\n      <td>4.0</td>\n      <td>3.0</td>\n      <td>4.0</td>\n      <td>4.0</td>\n      <td>4.0</td>\n      <td>4.0</td>\n      <td>...</td>\n      <td>4.0</td>\n      <td>4.0</td>\n      <td>2.0</td>\n      <td>4.0</td>\n      <td>4.0</td>\n      <td>2.0</td>\n      <td>4.0</td>\n      <td>4.0</td>\n      <td>2.0</td>\n      <td>4.0</td>\n    </tr>\n    <tr>\n      <th>1</th>\n      <td>2</td>\n      <td>4.0</td>\n      <td>4.0</td>\n      <td>4.0</td>\n      <td>4.0</td>\n      <td>4.0</td>\n      <td>3.0</td>\n      <td>4.0</td>\n      <td>4.0</td>\n      <td>4.0</td>\n      <td>...</td>\n      <td>4.0</td>\n      <td>3.0</td>\n      <td>3.0</td>\n      <td>2.0</td>\n      <td>4.0</td>\n      <td>2.0</td>\n      <td>4.0</td>\n      <td>4.0</td>\n      <td>2.0</td>\n      <td>2.0</td>\n    </tr>\n    <tr>\n      <th>2</th>\n      <td>3</td>\n      <td>5.0</td>\n      <td>5.0</td>\n      <td>5.0</td>\n      <td>5.0</td>\n      <td>2.0</td>\n      <td>5.0</td>\n      <td>5.0</td>\n      <td>4.0</td>\n      <td>4.0</td>\n      <td>...</td>\n      <td>4.0</td>\n      <td>4.0</td>\n      <td>2.0</td>\n      <td>2.0</td>\n      <td>5.0</td>\n      <td>2.0</td>\n      <td>3.0</td>\n      <td>4.0</td>\n      <td>2.0</td>\n      <td>4.0</td>\n    </tr>\n    <tr>\n      <th>3</th>\n      <td>4</td>\n      <td>4.0</td>\n      <td>4.0</td>\n      <td>5.0</td>\n      <td>4.0</td>\n      <td>3.0</td>\n      <td>4.0</td>\n      <td>5.0</td>\n      <td>3.0</td>\n      <td>5.0</td>\n      <td>...</td>\n      <td>4.0</td>\n      <td>4.0</td>\n      <td>2.0</td>\n      <td>2.0</td>\n      <td>4.0</td>\n      <td>3.0</td>\n      <td>4.0</td>\n      <td>4.0</td>\n      <td>4.0</td>\n      <td>3.0</td>\n    </tr>\n    <tr>\n      <th>4</th>\n      <td>5</td>\n      <td>5.0</td>\n      <td>5.0</td>\n      <td>5.0</td>\n      <td>5.0</td>\n      <td>4.0</td>\n      <td>4.0</td>\n      <td>5.0</td>\n      <td>4.0</td>\n      <td>3.0</td>\n      <td>...</td>\n      <td>5.0</td>\n      <td>3.0</td>\n      <td>1.0</td>\n      <td>1.0</td>\n      <td>5.0</td>\n      <td>1.0</td>\n      <td>4.0</td>\n      <td>5.0</td>\n      <td>3.0</td>\n      <td>4.0</td>\n    </tr>\n    <tr>\n      <th>...</th>\n      <td>...</td>\n      <td>...</td>\n      <td>...</td>\n      <td>...</td>\n      <td>...</td>\n      <td>...</td>\n      <td>...</td>\n      <td>...</td>\n      <td>...</td>\n      <td>...</td>\n      <td>...</td>\n      <td>...</td>\n      <td>...</td>\n      <td>...</td>\n      <td>...</td>\n      <td>...</td>\n      <td>...</td>\n      <td>...</td>\n      <td>...</td>\n      <td>...</td>\n      <td>...</td>\n    </tr>\n    <tr>\n      <th>259</th>\n      <td>260</td>\n      <td>4.0</td>\n      <td>3.0</td>\n      <td>5.0</td>\n      <td>4.0</td>\n      <td>4.0</td>\n      <td>4.0</td>\n      <td>5.0</td>\n      <td>3.0</td>\n      <td>4.0</td>\n      <td>...</td>\n      <td>4.0</td>\n      <td>4.0</td>\n      <td>1.0</td>\n      <td>1.0</td>\n      <td>4.0</td>\n      <td>1.0</td>\n      <td>4.0</td>\n      <td>5.0</td>\n      <td>1.0</td>\n      <td>3.0</td>\n    </tr>\n    <tr>\n      <th>260</th>\n      <td>261</td>\n      <td>4.0</td>\n      <td>5.0</td>\n      <td>4.0</td>\n      <td>4.0</td>\n      <td>3.0</td>\n      <td>4.0</td>\n      <td>4.0</td>\n      <td>3.0</td>\n      <td>5.0</td>\n      <td>...</td>\n      <td>4.0</td>\n      <td>4.0</td>\n      <td>2.0</td>\n      <td>3.0</td>\n      <td>4.0</td>\n      <td>2.0</td>\n      <td>4.0</td>\n      <td>3.0</td>\n      <td>2.0</td>\n      <td>NaN</td>\n    </tr>\n    <tr>\n      <th>261</th>\n      <td>262</td>\n      <td>4.0</td>\n      <td>5.0</td>\n      <td>5.0</td>\n      <td>3.0</td>\n      <td>2.0</td>\n      <td>4.0</td>\n      <td>5.0</td>\n      <td>2.0</td>\n      <td>4.0</td>\n      <td>...</td>\n      <td>4.0</td>\n      <td>4.0</td>\n      <td>1.0</td>\n      <td>1.0</td>\n      <td>3.0</td>\n      <td>2.0</td>\n      <td>4.0</td>\n      <td>4.0</td>\n      <td>2.0</td>\n      <td>3.0</td>\n    </tr>\n    <tr>\n      <th>262</th>\n      <td>263</td>\n      <td>5.0</td>\n      <td>5.0</td>\n      <td>5.0</td>\n      <td>5.0</td>\n      <td>4.0</td>\n      <td>5.0</td>\n      <td>5.0</td>\n      <td>4.0</td>\n      <td>5.0</td>\n      <td>...</td>\n      <td>2.0</td>\n      <td>2.0</td>\n      <td>2.0</td>\n      <td>1.0</td>\n      <td>5.0</td>\n      <td>2.0</td>\n      <td>4.0</td>\n      <td>5.0</td>\n      <td>2.0</td>\n      <td>2.0</td>\n    </tr>\n    <tr>\n      <th>263</th>\n      <td>264</td>\n      <td>4.0</td>\n      <td>4.0</td>\n      <td>5.0</td>\n      <td>4.0</td>\n      <td>4.0</td>\n      <td>4.0</td>\n      <td>4.0</td>\n      <td>4.0</td>\n      <td>5.0</td>\n      <td>...</td>\n      <td>4.0</td>\n      <td>3.0</td>\n      <td>1.0</td>\n      <td>2.0</td>\n      <td>5.0</td>\n      <td>3.0</td>\n      <td>4.0</td>\n      <td>4.0</td>\n      <td>3.0</td>\n      <td>3.0</td>\n    </tr>\n  </tbody>\n</table>\n<p>264 rows × 45 columns</p>\n</div>"
     },
     "metadata": {},
     "execution_count": 51
    }
   ],
   "source": [
    "#all in one pipe\n",
    "\n",
    "\n",
    "survey_adjusted = (survey\n",
    "                >> rename(User = X[\"Unnamed: 0\"])\n",
    "                >> gather(\"Response\",\"Rating\", survey_cols)\n",
    "                >> mutate(Lickert = case_when(\n",
    "                    (X[\"Rating\"] == \"Strongly Agree\", 5),\n",
    "                    (X[\"Rating\"] == \"Somewhat Agree\", 4),\n",
    "                    (X[\"Rating\"] == \"Neither Agree nor Disagree\", 3),\n",
    "                    (X[\"Rating\"] == \"Somewhat Disagree\", 2),\n",
    "                    (X[\"Rating\"] == \"Strongly Disagree\", 1)\n",
    "                )\n",
    "                )\n",
    "                >> drop(X[\"Rating\"])\n",
    "                >> spread(X.Response, X.Lickert)\n",
    "\n",
    ")\n",
    "\n",
    "survey_adjusted"
   ]
  }
 ],
 "metadata": {
  "celltoolbar": "Slideshow",
  "kernelspec": {
   "name": "python376jvsc74a57bd0afb832a54f715cd2f1ddeab6d5270592cc3825ffc87d65c491f17d6f77347d1f",
   "display_name": "Python 3.7.6 64-bit ('base': conda)"
  },
  "language_info": {
   "codemirror_mode": {
    "name": "ipython",
    "version": 3
   },
   "file_extension": ".py",
   "mimetype": "text/x-python",
   "name": "python",
   "nbconvert_exporter": "python",
   "pygments_lexer": "ipython3",
   "version": "3.7.6-final"
  },
  "varInspector": {
   "cols": {
    "lenName": 16,
    "lenType": 16,
    "lenVar": 40
   },
   "kernels_config": {
    "python": {
     "delete_cmd_postfix": "",
     "delete_cmd_prefix": "del ",
     "library": "var_list.py",
     "varRefreshCmd": "print(var_dic_list())"
    },
    "r": {
     "delete_cmd_postfix": ") ",
     "delete_cmd_prefix": "rm(",
     "library": "var_list.r",
     "varRefreshCmd": "cat(var_dic_list()) "
    }
   },
   "types_to_exclude": [
    "module",
    "function",
    "builtin_function_or_method",
    "instance",
    "_Feature"
   ],
   "window_display": false
  }
 },
 "nbformat": 4,
 "nbformat_minor": 2
}