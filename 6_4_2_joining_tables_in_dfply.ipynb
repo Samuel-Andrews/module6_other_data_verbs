{
 "cells": [
  {
   "cell_type": "markdown",
   "metadata": {
    "slideshow": {
     "slide_type": "slide"
    }
   },
   "source": [
    "# Joining Tables with `dfply`"
   ]
  },
  {
   "cell_type": "code",
   "execution_count": 2,
   "metadata": {
    "slideshow": {
     "slide_type": "fragment"
    }
   },
   "outputs": [],
   "source": [
    "import pandas as pd\n",
    "from dfply import *"
   ]
  },
  {
   "cell_type": "markdown",
   "metadata": {},
   "source": [
    "## Hiding stack traceback\n",
    "\n",
    "We hide the exception traceback for didactic reasons (code source: [see this post](https://stackoverflow.com/questions/46222753/how-do-i-suppress-tracebacks-in-jupyter)).  Don't run this cell if you want to see a full traceback."
   ]
  },
  {
   "cell_type": "code",
   "execution_count": 1,
   "metadata": {},
   "outputs": [],
   "source": [
    "import sys\n",
    "ipython = get_ipython()\n",
    "\n",
    "def hide_traceback(exc_tuple=None, filename=None, tb_offset=None,\n",
    "                   exception_only=False, running_compiled_code=False):\n",
    "    etype, value, tb = sys.exc_info()\n",
    "    return ipython._showtraceback(etype, value, ipython.InteractiveTB.get_exception_only(etype, value))\n",
    "\n",
    "ipython.showtraceback = hide_traceback"
   ]
  },
  {
   "cell_type": "markdown",
   "metadata": {
    "slideshow": {
     "slide_type": "slide"
    }
   },
   "source": [
    "## Example\n",
    "\n",
    "The following tables were taken from the Wikipedia page for joins and will provide a small but sufficiently complicated example for introducing joins."
   ]
  },
  {
   "cell_type": "code",
   "execution_count": 3,
   "metadata": {
    "slideshow": {
     "slide_type": "fragment"
    }
   },
   "outputs": [
    {
     "output_type": "execute_result",
     "data": {
      "text/plain": [
       "   DeptID     DeptName\n",
       "0      31        Sales\n",
       "1      33  Engineering\n",
       "2      34     Clerical\n",
       "3      35    Marketing"
      ],
      "text/html": "<div>\n<style scoped>\n    .dataframe tbody tr th:only-of-type {\n        vertical-align: middle;\n    }\n\n    .dataframe tbody tr th {\n        vertical-align: top;\n    }\n\n    .dataframe thead th {\n        text-align: right;\n    }\n</style>\n<table border=\"1\" class=\"dataframe\">\n  <thead>\n    <tr style=\"text-align: right;\">\n      <th></th>\n      <th>DeptID</th>\n      <th>DeptName</th>\n    </tr>\n  </thead>\n  <tbody>\n    <tr>\n      <th>0</th>\n      <td>31</td>\n      <td>Sales</td>\n    </tr>\n    <tr>\n      <th>1</th>\n      <td>33</td>\n      <td>Engineering</td>\n    </tr>\n    <tr>\n      <th>2</th>\n      <td>34</td>\n      <td>Clerical</td>\n    </tr>\n    <tr>\n      <th>3</th>\n      <td>35</td>\n      <td>Marketing</td>\n    </tr>\n  </tbody>\n</table>\n</div>"
     },
     "metadata": {},
     "execution_count": 3
    }
   ],
   "source": [
    "dept = pd.read_csv(\"./data/department.csv\")\n",
    "dept"
   ]
  },
  {
   "cell_type": "code",
   "execution_count": 4,
   "metadata": {
    "slideshow": {
     "slide_type": "slide"
    }
   },
   "outputs": [
    {
     "output_type": "execute_result",
     "data": {
      "text/plain": [
       "     LastName  DeptID\n",
       "0    Rafferty    31.0\n",
       "1       Jones    33.0\n",
       "2  Heisenberg    33.0\n",
       "3    Robinson    34.0\n",
       "4       Smith    34.0\n",
       "5    Williams     NaN"
      ],
      "text/html": "<div>\n<style scoped>\n    .dataframe tbody tr th:only-of-type {\n        vertical-align: middle;\n    }\n\n    .dataframe tbody tr th {\n        vertical-align: top;\n    }\n\n    .dataframe thead th {\n        text-align: right;\n    }\n</style>\n<table border=\"1\" class=\"dataframe\">\n  <thead>\n    <tr style=\"text-align: right;\">\n      <th></th>\n      <th>LastName</th>\n      <th>DeptID</th>\n    </tr>\n  </thead>\n  <tbody>\n    <tr>\n      <th>0</th>\n      <td>Rafferty</td>\n      <td>31.0</td>\n    </tr>\n    <tr>\n      <th>1</th>\n      <td>Jones</td>\n      <td>33.0</td>\n    </tr>\n    <tr>\n      <th>2</th>\n      <td>Heisenberg</td>\n      <td>33.0</td>\n    </tr>\n    <tr>\n      <th>3</th>\n      <td>Robinson</td>\n      <td>34.0</td>\n    </tr>\n    <tr>\n      <th>4</th>\n      <td>Smith</td>\n      <td>34.0</td>\n    </tr>\n    <tr>\n      <th>5</th>\n      <td>Williams</td>\n      <td>NaN</td>\n    </tr>\n  </tbody>\n</table>\n</div>"
     },
     "metadata": {},
     "execution_count": 4
    }
   ],
   "source": [
    "empl = pd.read_csv(\"./data/employee.csv\")\n",
    "empl"
   ]
  },
  {
   "cell_type": "markdown",
   "metadata": {
    "slideshow": {
     "slide_type": "slide"
    }
   },
   "source": [
    "## Left Outer Join\n",
    "\n",
    "Use `left_table >> dfply.left_join(right_table, by=common_col_name)`"
   ]
  },
  {
   "cell_type": "code",
   "execution_count": 8,
   "metadata": {
    "slideshow": {
     "slide_type": "fragment"
    }
   },
   "outputs": [
    {
     "output_type": "execute_result",
     "data": {
      "text/plain": [
       "     LastName  DeptID     DeptName\n",
       "0    Rafferty    31.0        Sales\n",
       "1       Jones    33.0  Engineering\n",
       "2  Heisenberg    33.0  Engineering\n",
       "3    Robinson    34.0     Clerical\n",
       "4       Smith    34.0     Clerical\n",
       "5    Williams     NaN          NaN"
      ],
      "text/html": "<div>\n<style scoped>\n    .dataframe tbody tr th:only-of-type {\n        vertical-align: middle;\n    }\n\n    .dataframe tbody tr th {\n        vertical-align: top;\n    }\n\n    .dataframe thead th {\n        text-align: right;\n    }\n</style>\n<table border=\"1\" class=\"dataframe\">\n  <thead>\n    <tr style=\"text-align: right;\">\n      <th></th>\n      <th>LastName</th>\n      <th>DeptID</th>\n      <th>DeptName</th>\n    </tr>\n  </thead>\n  <tbody>\n    <tr>\n      <th>0</th>\n      <td>Rafferty</td>\n      <td>31.0</td>\n      <td>Sales</td>\n    </tr>\n    <tr>\n      <th>1</th>\n      <td>Jones</td>\n      <td>33.0</td>\n      <td>Engineering</td>\n    </tr>\n    <tr>\n      <th>2</th>\n      <td>Heisenberg</td>\n      <td>33.0</td>\n      <td>Engineering</td>\n    </tr>\n    <tr>\n      <th>3</th>\n      <td>Robinson</td>\n      <td>34.0</td>\n      <td>Clerical</td>\n    </tr>\n    <tr>\n      <th>4</th>\n      <td>Smith</td>\n      <td>34.0</td>\n      <td>Clerical</td>\n    </tr>\n    <tr>\n      <th>5</th>\n      <td>Williams</td>\n      <td>NaN</td>\n      <td>NaN</td>\n    </tr>\n  </tbody>\n</table>\n</div>"
     },
     "metadata": {},
     "execution_count": 8
    }
   ],
   "source": [
    "empl >> left_join(dept, by='DeptID')"
   ]
  },
  {
   "cell_type": "markdown",
   "metadata": {},
   "source": [
    "## Rename when the column names are different"
   ]
  },
  {
   "cell_type": "code",
   "execution_count": 9,
   "metadata": {},
   "outputs": [
    {
     "output_type": "execute_result",
     "data": {
      "text/plain": [
       "     LastName  deptIDL\n",
       "0    Rafferty     31.0\n",
       "1       Jones     33.0\n",
       "2  Heisenberg     33.0\n",
       "3    Robinson     34.0\n",
       "4       Smith     34.0\n",
       "5    Williams      0.0"
      ],
      "text/html": "<div>\n<style scoped>\n    .dataframe tbody tr th:only-of-type {\n        vertical-align: middle;\n    }\n\n    .dataframe tbody tr th {\n        vertical-align: top;\n    }\n\n    .dataframe thead th {\n        text-align: right;\n    }\n</style>\n<table border=\"1\" class=\"dataframe\">\n  <thead>\n    <tr style=\"text-align: right;\">\n      <th></th>\n      <th>LastName</th>\n      <th>deptIDL</th>\n    </tr>\n  </thead>\n  <tbody>\n    <tr>\n      <th>0</th>\n      <td>Rafferty</td>\n      <td>31.0</td>\n    </tr>\n    <tr>\n      <th>1</th>\n      <td>Jones</td>\n      <td>33.0</td>\n    </tr>\n    <tr>\n      <th>2</th>\n      <td>Heisenberg</td>\n      <td>33.0</td>\n    </tr>\n    <tr>\n      <th>3</th>\n      <td>Robinson</td>\n      <td>34.0</td>\n    </tr>\n    <tr>\n      <th>4</th>\n      <td>Smith</td>\n      <td>34.0</td>\n    </tr>\n    <tr>\n      <th>5</th>\n      <td>Williams</td>\n      <td>0.0</td>\n    </tr>\n  </tbody>\n</table>\n</div>"
     },
     "metadata": {},
     "execution_count": 9
    }
   ],
   "source": [
    "empl2 = empl.fillna(0) >> rename(deptIDL = 'DeptID') \n",
    "empl2"
   ]
  },
  {
   "cell_type": "code",
   "execution_count": 10,
   "metadata": {},
   "outputs": [
    {
     "output_type": "error",
     "ename": "KeyError",
     "evalue": "'DeptID'",
     "traceback": [
      "\u001b[0;31mKeyError\u001b[0m\u001b[0;31m:\u001b[0m 'DeptID'\n"
     ]
    }
   ],
   "source": [
    "empl2 >> left_join(dept, by='DeptID')"
   ]
  },
  {
   "cell_type": "code",
   "execution_count": 11,
   "metadata": {},
   "outputs": [
    {
     "output_type": "execute_result",
     "data": {
      "text/plain": [
       "     LastName  DeptID     DeptName\n",
       "0    Rafferty    31.0        Sales\n",
       "1       Jones    33.0  Engineering\n",
       "2  Heisenberg    33.0  Engineering\n",
       "3    Robinson    34.0     Clerical\n",
       "4       Smith    34.0     Clerical\n",
       "5    Williams     0.0          NaN"
      ],
      "text/html": "<div>\n<style scoped>\n    .dataframe tbody tr th:only-of-type {\n        vertical-align: middle;\n    }\n\n    .dataframe tbody tr th {\n        vertical-align: top;\n    }\n\n    .dataframe thead th {\n        text-align: right;\n    }\n</style>\n<table border=\"1\" class=\"dataframe\">\n  <thead>\n    <tr style=\"text-align: right;\">\n      <th></th>\n      <th>LastName</th>\n      <th>DeptID</th>\n      <th>DeptName</th>\n    </tr>\n  </thead>\n  <tbody>\n    <tr>\n      <th>0</th>\n      <td>Rafferty</td>\n      <td>31.0</td>\n      <td>Sales</td>\n    </tr>\n    <tr>\n      <th>1</th>\n      <td>Jones</td>\n      <td>33.0</td>\n      <td>Engineering</td>\n    </tr>\n    <tr>\n      <th>2</th>\n      <td>Heisenberg</td>\n      <td>33.0</td>\n      <td>Engineering</td>\n    </tr>\n    <tr>\n      <th>3</th>\n      <td>Robinson</td>\n      <td>34.0</td>\n      <td>Clerical</td>\n    </tr>\n    <tr>\n      <th>4</th>\n      <td>Smith</td>\n      <td>34.0</td>\n      <td>Clerical</td>\n    </tr>\n    <tr>\n      <th>5</th>\n      <td>Williams</td>\n      <td>0.0</td>\n      <td>NaN</td>\n    </tr>\n  </tbody>\n</table>\n</div>"
     },
     "metadata": {},
     "execution_count": 11
    }
   ],
   "source": [
    "empl2 >> rename(DeptID = 'deptIDL') >> left_join(dept, by='DeptID')"
   ]
  },
  {
   "cell_type": "markdown",
   "metadata": {
    "slideshow": {
     "slide_type": "slide"
    }
   },
   "source": [
    "## Right Outer Join\n",
    "\n",
    "Use `right_table >> dfply.right_join(left_table, by=common_col_name)`"
   ]
  },
  {
   "cell_type": "code",
   "execution_count": 12,
   "metadata": {
    "scrolled": true
   },
   "outputs": [
    {
     "output_type": "execute_result",
     "data": {
      "text/plain": [
       "     LastName  DeptID     DeptName\n",
       "0    Rafferty    31.0        Sales\n",
       "1       Jones    33.0  Engineering\n",
       "2  Heisenberg    33.0  Engineering\n",
       "3    Robinson    34.0     Clerical\n",
       "4       Smith    34.0     Clerical\n",
       "5         NaN    35.0    Marketing"
      ],
      "text/html": "<div>\n<style scoped>\n    .dataframe tbody tr th:only-of-type {\n        vertical-align: middle;\n    }\n\n    .dataframe tbody tr th {\n        vertical-align: top;\n    }\n\n    .dataframe thead th {\n        text-align: right;\n    }\n</style>\n<table border=\"1\" class=\"dataframe\">\n  <thead>\n    <tr style=\"text-align: right;\">\n      <th></th>\n      <th>LastName</th>\n      <th>DeptID</th>\n      <th>DeptName</th>\n    </tr>\n  </thead>\n  <tbody>\n    <tr>\n      <th>0</th>\n      <td>Rafferty</td>\n      <td>31.0</td>\n      <td>Sales</td>\n    </tr>\n    <tr>\n      <th>1</th>\n      <td>Jones</td>\n      <td>33.0</td>\n      <td>Engineering</td>\n    </tr>\n    <tr>\n      <th>2</th>\n      <td>Heisenberg</td>\n      <td>33.0</td>\n      <td>Engineering</td>\n    </tr>\n    <tr>\n      <th>3</th>\n      <td>Robinson</td>\n      <td>34.0</td>\n      <td>Clerical</td>\n    </tr>\n    <tr>\n      <th>4</th>\n      <td>Smith</td>\n      <td>34.0</td>\n      <td>Clerical</td>\n    </tr>\n    <tr>\n      <th>5</th>\n      <td>NaN</td>\n      <td>35.0</td>\n      <td>Marketing</td>\n    </tr>\n  </tbody>\n</table>\n</div>"
     },
     "metadata": {},
     "execution_count": 12
    }
   ],
   "source": [
    "empl >> right_join(dept, by='DeptID')"
   ]
  },
  {
   "cell_type": "markdown",
   "metadata": {
    "slideshow": {
     "slide_type": "slide"
    }
   },
   "source": [
    "## Full Outer Join\n",
    "\n",
    "Use `left_table >> dfply.outer_join(right_table, by=common_col_name)`"
   ]
  },
  {
   "cell_type": "code",
   "execution_count": 13,
   "metadata": {
    "scrolled": true
   },
   "outputs": [
    {
     "output_type": "execute_result",
     "data": {
      "text/plain": [
       "     LastName  DeptID     DeptName\n",
       "0    Rafferty    31.0        Sales\n",
       "1       Jones    33.0  Engineering\n",
       "2  Heisenberg    33.0  Engineering\n",
       "3    Robinson    34.0     Clerical\n",
       "4       Smith    34.0     Clerical\n",
       "5    Williams     NaN          NaN\n",
       "6         NaN    35.0    Marketing"
      ],
      "text/html": "<div>\n<style scoped>\n    .dataframe tbody tr th:only-of-type {\n        vertical-align: middle;\n    }\n\n    .dataframe tbody tr th {\n        vertical-align: top;\n    }\n\n    .dataframe thead th {\n        text-align: right;\n    }\n</style>\n<table border=\"1\" class=\"dataframe\">\n  <thead>\n    <tr style=\"text-align: right;\">\n      <th></th>\n      <th>LastName</th>\n      <th>DeptID</th>\n      <th>DeptName</th>\n    </tr>\n  </thead>\n  <tbody>\n    <tr>\n      <th>0</th>\n      <td>Rafferty</td>\n      <td>31.0</td>\n      <td>Sales</td>\n    </tr>\n    <tr>\n      <th>1</th>\n      <td>Jones</td>\n      <td>33.0</td>\n      <td>Engineering</td>\n    </tr>\n    <tr>\n      <th>2</th>\n      <td>Heisenberg</td>\n      <td>33.0</td>\n      <td>Engineering</td>\n    </tr>\n    <tr>\n      <th>3</th>\n      <td>Robinson</td>\n      <td>34.0</td>\n      <td>Clerical</td>\n    </tr>\n    <tr>\n      <th>4</th>\n      <td>Smith</td>\n      <td>34.0</td>\n      <td>Clerical</td>\n    </tr>\n    <tr>\n      <th>5</th>\n      <td>Williams</td>\n      <td>NaN</td>\n      <td>NaN</td>\n    </tr>\n    <tr>\n      <th>6</th>\n      <td>NaN</td>\n      <td>35.0</td>\n      <td>Marketing</td>\n    </tr>\n  </tbody>\n</table>\n</div>"
     },
     "metadata": {},
     "execution_count": 13
    }
   ],
   "source": [
    "empl >> outer_join(dept, by='DeptID')"
   ]
  },
  {
   "cell_type": "markdown",
   "metadata": {
    "slideshow": {
     "slide_type": "slide"
    }
   },
   "source": [
    "## Inner Join\n",
    "\n",
    "Use `left_table >> dfply.inner_join(right_table, by=common_col_name)`"
   ]
  },
  {
   "cell_type": "code",
   "execution_count": 14,
   "metadata": {
    "scrolled": true
   },
   "outputs": [
    {
     "output_type": "execute_result",
     "data": {
      "text/plain": [
       "     LastName  DeptID     DeptName\n",
       "0    Rafferty    31.0        Sales\n",
       "1       Jones    33.0  Engineering\n",
       "2  Heisenberg    33.0  Engineering\n",
       "3    Robinson    34.0     Clerical\n",
       "4       Smith    34.0     Clerical"
      ],
      "text/html": "<div>\n<style scoped>\n    .dataframe tbody tr th:only-of-type {\n        vertical-align: middle;\n    }\n\n    .dataframe tbody tr th {\n        vertical-align: top;\n    }\n\n    .dataframe thead th {\n        text-align: right;\n    }\n</style>\n<table border=\"1\" class=\"dataframe\">\n  <thead>\n    <tr style=\"text-align: right;\">\n      <th></th>\n      <th>LastName</th>\n      <th>DeptID</th>\n      <th>DeptName</th>\n    </tr>\n  </thead>\n  <tbody>\n    <tr>\n      <th>0</th>\n      <td>Rafferty</td>\n      <td>31.0</td>\n      <td>Sales</td>\n    </tr>\n    <tr>\n      <th>1</th>\n      <td>Jones</td>\n      <td>33.0</td>\n      <td>Engineering</td>\n    </tr>\n    <tr>\n      <th>2</th>\n      <td>Heisenberg</td>\n      <td>33.0</td>\n      <td>Engineering</td>\n    </tr>\n    <tr>\n      <th>3</th>\n      <td>Robinson</td>\n      <td>34.0</td>\n      <td>Clerical</td>\n    </tr>\n    <tr>\n      <th>4</th>\n      <td>Smith</td>\n      <td>34.0</td>\n      <td>Clerical</td>\n    </tr>\n  </tbody>\n</table>\n</div>"
     },
     "metadata": {},
     "execution_count": 14
    }
   ],
   "source": [
    "empl >> inner_join(dept, by='DeptID')"
   ]
  },
  {
   "cell_type": "markdown",
   "metadata": {},
   "source": [
    "## Example 2 - Joining Batting to People\n",
    "\n",
    "As an example of a joining on more than 1 column, consider the following task.\n",
    "\n",
    "**Task:** Create a table with the total runs score for each team in 2009.  Include the teams proper name and the name of their home park."
   ]
  },
  {
   "cell_type": "code",
   "execution_count": 15,
   "metadata": {},
   "outputs": [],
   "source": [
    "files = (\"./data/baseball/core/Batting.csv\", \n",
    "         \"./data/baseball/core/Teams.csv\")"
   ]
  },
  {
   "cell_type": "code",
   "execution_count": 16,
   "metadata": {},
   "outputs": [],
   "source": [
    "\n",
    "batting, teams = [pd.read_csv(f) for f in files]"
   ]
  },
  {
   "cell_type": "markdown",
   "metadata": {},
   "source": [
    "## Things we need from `Batting.csv`\n",
    "\n",
    "* Year\n",
    "* Runs\n",
    "* Team"
   ]
  },
  {
   "cell_type": "code",
   "execution_count": 17,
   "metadata": {
    "scrolled": true
   },
   "outputs": [
    {
     "output_type": "execute_result",
     "data": {
      "text/plain": [
       "    playerID  yearID  stint teamID lgID   G   AB   R   H  2B  ...   RBI   SB  \\\n",
       "0  abercda01    1871      1    TRO  NaN   1    4   0   0   0  ...   0.0  0.0   \n",
       "1   addybo01    1871      1    RC1  NaN  25  118  30  32   6  ...  13.0  8.0   \n",
       "\n",
       "    CS  BB   SO  IBB  HBP  SH  SF  GIDP  \n",
       "0  0.0   0  0.0  NaN  NaN NaN NaN   0.0  \n",
       "1  1.0   4  0.0  NaN  NaN NaN NaN   0.0  \n",
       "\n",
       "[2 rows x 22 columns]"
      ],
      "text/html": "<div>\n<style scoped>\n    .dataframe tbody tr th:only-of-type {\n        vertical-align: middle;\n    }\n\n    .dataframe tbody tr th {\n        vertical-align: top;\n    }\n\n    .dataframe thead th {\n        text-align: right;\n    }\n</style>\n<table border=\"1\" class=\"dataframe\">\n  <thead>\n    <tr style=\"text-align: right;\">\n      <th></th>\n      <th>playerID</th>\n      <th>yearID</th>\n      <th>stint</th>\n      <th>teamID</th>\n      <th>lgID</th>\n      <th>G</th>\n      <th>AB</th>\n      <th>R</th>\n      <th>H</th>\n      <th>2B</th>\n      <th>...</th>\n      <th>RBI</th>\n      <th>SB</th>\n      <th>CS</th>\n      <th>BB</th>\n      <th>SO</th>\n      <th>IBB</th>\n      <th>HBP</th>\n      <th>SH</th>\n      <th>SF</th>\n      <th>GIDP</th>\n    </tr>\n  </thead>\n  <tbody>\n    <tr>\n      <th>0</th>\n      <td>abercda01</td>\n      <td>1871</td>\n      <td>1</td>\n      <td>TRO</td>\n      <td>NaN</td>\n      <td>1</td>\n      <td>4</td>\n      <td>0</td>\n      <td>0</td>\n      <td>0</td>\n      <td>...</td>\n      <td>0.0</td>\n      <td>0.0</td>\n      <td>0.0</td>\n      <td>0</td>\n      <td>0.0</td>\n      <td>NaN</td>\n      <td>NaN</td>\n      <td>NaN</td>\n      <td>NaN</td>\n      <td>0.0</td>\n    </tr>\n    <tr>\n      <th>1</th>\n      <td>addybo01</td>\n      <td>1871</td>\n      <td>1</td>\n      <td>RC1</td>\n      <td>NaN</td>\n      <td>25</td>\n      <td>118</td>\n      <td>30</td>\n      <td>32</td>\n      <td>6</td>\n      <td>...</td>\n      <td>13.0</td>\n      <td>8.0</td>\n      <td>1.0</td>\n      <td>4</td>\n      <td>0.0</td>\n      <td>NaN</td>\n      <td>NaN</td>\n      <td>NaN</td>\n      <td>NaN</td>\n      <td>0.0</td>\n    </tr>\n  </tbody>\n</table>\n<p>2 rows × 22 columns</p>\n</div>"
     },
     "metadata": {},
     "execution_count": 17
    }
   ],
   "source": [
    "batting.head(2)"
   ]
  },
  {
   "cell_type": "markdown",
   "metadata": {},
   "source": [
    "#### Selecting down to the necessary columns"
   ]
  },
  {
   "cell_type": "code",
   "execution_count": 18,
   "metadata": {},
   "outputs": [
    {
     "output_type": "execute_result",
     "data": {
      "text/plain": [
       "  teamID  yearID   R\n",
       "0    TRO    1871   0\n",
       "1    RC1    1871  30\n",
       "2    CL1    1871  28\n",
       "3    WS3    1871  28\n",
       "4    RC1    1871  29"
      ],
      "text/html": "<div>\n<style scoped>\n    .dataframe tbody tr th:only-of-type {\n        vertical-align: middle;\n    }\n\n    .dataframe tbody tr th {\n        vertical-align: top;\n    }\n\n    .dataframe thead th {\n        text-align: right;\n    }\n</style>\n<table border=\"1\" class=\"dataframe\">\n  <thead>\n    <tr style=\"text-align: right;\">\n      <th></th>\n      <th>teamID</th>\n      <th>yearID</th>\n      <th>R</th>\n    </tr>\n  </thead>\n  <tbody>\n    <tr>\n      <th>0</th>\n      <td>TRO</td>\n      <td>1871</td>\n      <td>0</td>\n    </tr>\n    <tr>\n      <th>1</th>\n      <td>RC1</td>\n      <td>1871</td>\n      <td>30</td>\n    </tr>\n    <tr>\n      <th>2</th>\n      <td>CL1</td>\n      <td>1871</td>\n      <td>28</td>\n    </tr>\n    <tr>\n      <th>3</th>\n      <td>WS3</td>\n      <td>1871</td>\n      <td>28</td>\n    </tr>\n    <tr>\n      <th>4</th>\n      <td>RC1</td>\n      <td>1871</td>\n      <td>29</td>\n    </tr>\n  </tbody>\n</table>\n</div>"
     },
     "metadata": {},
     "execution_count": 18
    }
   ],
   "source": [
    "batting_select = (batting\n",
    "                  >> select(X.teamID,\n",
    "                            X.yearID,\n",
    "                            X.R)\n",
    "                 )\n",
    "batting_select.head()"
   ]
  },
  {
   "cell_type": "code",
   "execution_count": 19,
   "metadata": {},
   "outputs": [
    {
     "output_type": "execute_result",
     "data": {
      "text/plain": [
       "(107429, 3)"
      ]
     },
     "metadata": {},
     "execution_count": 19
    }
   ],
   "source": [
    "batting_select.shape"
   ]
  },
  {
   "cell_type": "markdown",
   "metadata": {},
   "source": [
    "## Things we need from `Teams.csv`\n",
    "\n",
    "* Year\n",
    "* Runs\n",
    "* Team"
   ]
  },
  {
   "cell_type": "code",
   "execution_count": 27,
   "metadata": {
    "scrolled": true
   },
   "outputs": [
    {
     "data": {
      "text/html": [
       "<div>\n",
       "<style scoped>\n",
       "    .dataframe tbody tr th:only-of-type {\n",
       "        vertical-align: middle;\n",
       "    }\n",
       "\n",
       "    .dataframe tbody tr th {\n",
       "        vertical-align: top;\n",
       "    }\n",
       "\n",
       "    .dataframe thead th {\n",
       "        text-align: right;\n",
       "    }\n",
       "</style>\n",
       "<table border=\"1\" class=\"dataframe\">\n",
       "  <thead>\n",
       "    <tr style=\"text-align: right;\">\n",
       "      <th></th>\n",
       "      <th>yearID</th>\n",
       "      <th>lgID</th>\n",
       "      <th>teamID</th>\n",
       "      <th>franchID</th>\n",
       "      <th>divID</th>\n",
       "      <th>Rank</th>\n",
       "      <th>G</th>\n",
       "      <th>Ghome</th>\n",
       "      <th>W</th>\n",
       "      <th>L</th>\n",
       "      <th>...</th>\n",
       "      <th>DP</th>\n",
       "      <th>FP</th>\n",
       "      <th>name</th>\n",
       "      <th>park</th>\n",
       "      <th>attendance</th>\n",
       "      <th>BPF</th>\n",
       "      <th>PPF</th>\n",
       "      <th>teamIDBR</th>\n",
       "      <th>teamIDlahman45</th>\n",
       "      <th>teamIDretro</th>\n",
       "    </tr>\n",
       "  </thead>\n",
       "  <tbody>\n",
       "    <tr>\n",
       "      <th>0</th>\n",
       "      <td>1871</td>\n",
       "      <td>NaN</td>\n",
       "      <td>BS1</td>\n",
       "      <td>BNA</td>\n",
       "      <td>NaN</td>\n",
       "      <td>3</td>\n",
       "      <td>31</td>\n",
       "      <td>NaN</td>\n",
       "      <td>20</td>\n",
       "      <td>10</td>\n",
       "      <td>...</td>\n",
       "      <td>24</td>\n",
       "      <td>0.834</td>\n",
       "      <td>Boston Red Stockings</td>\n",
       "      <td>South End Grounds I</td>\n",
       "      <td>NaN</td>\n",
       "      <td>103</td>\n",
       "      <td>98</td>\n",
       "      <td>BOS</td>\n",
       "      <td>BS1</td>\n",
       "      <td>BS1</td>\n",
       "    </tr>\n",
       "    <tr>\n",
       "      <th>1</th>\n",
       "      <td>1871</td>\n",
       "      <td>NaN</td>\n",
       "      <td>CH1</td>\n",
       "      <td>CNA</td>\n",
       "      <td>NaN</td>\n",
       "      <td>2</td>\n",
       "      <td>28</td>\n",
       "      <td>NaN</td>\n",
       "      <td>19</td>\n",
       "      <td>9</td>\n",
       "      <td>...</td>\n",
       "      <td>16</td>\n",
       "      <td>0.829</td>\n",
       "      <td>Chicago White Stockings</td>\n",
       "      <td>Union Base-Ball Grounds</td>\n",
       "      <td>NaN</td>\n",
       "      <td>104</td>\n",
       "      <td>102</td>\n",
       "      <td>CHI</td>\n",
       "      <td>CH1</td>\n",
       "      <td>CH1</td>\n",
       "    </tr>\n",
       "  </tbody>\n",
       "</table>\n",
       "<p>2 rows × 48 columns</p>\n",
       "</div>"
      ],
      "text/plain": [
       "   yearID lgID teamID franchID divID  Rank   G  Ghome   W   L  ...  DP     FP  \\\n",
       "0    1871  NaN    BS1      BNA   NaN     3  31    NaN  20  10  ...  24  0.834   \n",
       "1    1871  NaN    CH1      CNA   NaN     2  28    NaN  19   9  ...  16  0.829   \n",
       "\n",
       "                      name                     park  attendance  BPF  PPF  \\\n",
       "0     Boston Red Stockings      South End Grounds I         NaN  103   98   \n",
       "1  Chicago White Stockings  Union Base-Ball Grounds         NaN  104  102   \n",
       "\n",
       "   teamIDBR  teamIDlahman45  teamIDretro  \n",
       "0       BOS             BS1          BS1  \n",
       "1       CHI             CH1          CH1  \n",
       "\n",
       "[2 rows x 48 columns]"
      ]
     },
     "execution_count": 27,
     "metadata": {},
     "output_type": "execute_result"
    }
   ],
   "source": [
    "teams.head(2)"
   ]
  },
  {
   "cell_type": "markdown",
   "metadata": {},
   "source": [
    "#### Selecting down to the necessary columns"
   ]
  },
  {
   "cell_type": "code",
   "execution_count": 20,
   "metadata": {
    "scrolled": true
   },
   "outputs": [
    {
     "output_type": "execute_result",
     "data": {
      "text/plain": [
       "   yearID teamID                     name                          park\n",
       "0    1871    BS1     Boston Red Stockings           South End Grounds I\n",
       "1    1871    CH1  Chicago White Stockings       Union Base-Ball Grounds\n",
       "2    1871    CL1   Cleveland Forest Citys  National Association Grounds\n",
       "3    1871    FW1     Fort Wayne Kekiongas                Hamilton Field\n",
       "4    1871    NY2         New York Mutuals      Union Grounds (Brooklyn)"
      ],
      "text/html": "<div>\n<style scoped>\n    .dataframe tbody tr th:only-of-type {\n        vertical-align: middle;\n    }\n\n    .dataframe tbody tr th {\n        vertical-align: top;\n    }\n\n    .dataframe thead th {\n        text-align: right;\n    }\n</style>\n<table border=\"1\" class=\"dataframe\">\n  <thead>\n    <tr style=\"text-align: right;\">\n      <th></th>\n      <th>yearID</th>\n      <th>teamID</th>\n      <th>name</th>\n      <th>park</th>\n    </tr>\n  </thead>\n  <tbody>\n    <tr>\n      <th>0</th>\n      <td>1871</td>\n      <td>BS1</td>\n      <td>Boston Red Stockings</td>\n      <td>South End Grounds I</td>\n    </tr>\n    <tr>\n      <th>1</th>\n      <td>1871</td>\n      <td>CH1</td>\n      <td>Chicago White Stockings</td>\n      <td>Union Base-Ball Grounds</td>\n    </tr>\n    <tr>\n      <th>2</th>\n      <td>1871</td>\n      <td>CL1</td>\n      <td>Cleveland Forest Citys</td>\n      <td>National Association Grounds</td>\n    </tr>\n    <tr>\n      <th>3</th>\n      <td>1871</td>\n      <td>FW1</td>\n      <td>Fort Wayne Kekiongas</td>\n      <td>Hamilton Field</td>\n    </tr>\n    <tr>\n      <th>4</th>\n      <td>1871</td>\n      <td>NY2</td>\n      <td>New York Mutuals</td>\n      <td>Union Grounds (Brooklyn)</td>\n    </tr>\n  </tbody>\n</table>\n</div>"
     },
     "metadata": {},
     "execution_count": 20
    }
   ],
   "source": [
    "teams_select = (teams >> select(X.yearID,\n",
    "                                X.teamID,\n",
    "                                X.name,\n",
    "                                X.park))\n",
    "teams_select.head()"
   ]
  },
  {
   "cell_type": "code",
   "execution_count": 21,
   "metadata": {},
   "outputs": [
    {
     "output_type": "execute_result",
     "data": {
      "text/plain": [
       "(2925, 4)"
      ]
     },
     "metadata": {},
     "execution_count": 21
    }
   ],
   "source": [
    "teams_select.shape"
   ]
  },
  {
   "cell_type": "markdown",
   "metadata": {},
   "source": [
    "## How can we match these columns?\n",
    "\n",
    "We will need to match on both `teamID` and `yearID` because\n",
    "\n",
    "1. Team names might change\n",
    "2. The teams park depends on the year."
   ]
  },
  {
   "cell_type": "markdown",
   "metadata": {},
   "source": [
    "## Determining the correct join.\n",
    "\n",
    "Facts of the task:\n",
    "\n",
    "* We want batting statistics for all players in 2009\n",
    "* We want only teams names and parks for teams that played that year.\n",
    "\n",
    "**Question:** Which join? \n",
    "**Answer:** `batting >> left_join(teams)` on both year and "
   ]
  },
  {
   "cell_type": "markdown",
   "metadata": {},
   "source": [
    "## How to join on multiple columns\n",
    "\n",
    "Pass a list of columns names to `by`"
   ]
  },
  {
   "cell_type": "code",
   "execution_count": 22,
   "metadata": {},
   "outputs": [
    {
     "output_type": "execute_result",
     "data": {
      "text/plain": [
       "  teamID  yearID   R                    name  \\\n",
       "0    TRO    1871   0          Troy Haymakers   \n",
       "1    RC1    1871  30   Rockford Forest Citys   \n",
       "2    CL1    1871  28  Cleveland Forest Citys   \n",
       "3    WS3    1871  28     Washington Olympics   \n",
       "4    RC1    1871  29   Rockford Forest Citys   \n",
       "\n",
       "                                park  \n",
       "0                 Haymakers' Grounds  \n",
       "1  Agricultural Society Fair Grounds  \n",
       "2       National Association Grounds  \n",
       "3                   Olympics Grounds  \n",
       "4  Agricultural Society Fair Grounds  "
      ],
      "text/html": "<div>\n<style scoped>\n    .dataframe tbody tr th:only-of-type {\n        vertical-align: middle;\n    }\n\n    .dataframe tbody tr th {\n        vertical-align: top;\n    }\n\n    .dataframe thead th {\n        text-align: right;\n    }\n</style>\n<table border=\"1\" class=\"dataframe\">\n  <thead>\n    <tr style=\"text-align: right;\">\n      <th></th>\n      <th>teamID</th>\n      <th>yearID</th>\n      <th>R</th>\n      <th>name</th>\n      <th>park</th>\n    </tr>\n  </thead>\n  <tbody>\n    <tr>\n      <th>0</th>\n      <td>TRO</td>\n      <td>1871</td>\n      <td>0</td>\n      <td>Troy Haymakers</td>\n      <td>Haymakers' Grounds</td>\n    </tr>\n    <tr>\n      <th>1</th>\n      <td>RC1</td>\n      <td>1871</td>\n      <td>30</td>\n      <td>Rockford Forest Citys</td>\n      <td>Agricultural Society Fair Grounds</td>\n    </tr>\n    <tr>\n      <th>2</th>\n      <td>CL1</td>\n      <td>1871</td>\n      <td>28</td>\n      <td>Cleveland Forest Citys</td>\n      <td>National Association Grounds</td>\n    </tr>\n    <tr>\n      <th>3</th>\n      <td>WS3</td>\n      <td>1871</td>\n      <td>28</td>\n      <td>Washington Olympics</td>\n      <td>Olympics Grounds</td>\n    </tr>\n    <tr>\n      <th>4</th>\n      <td>RC1</td>\n      <td>1871</td>\n      <td>29</td>\n      <td>Rockford Forest Citys</td>\n      <td>Agricultural Society Fair Grounds</td>\n    </tr>\n  </tbody>\n</table>\n</div>"
     },
     "metadata": {},
     "execution_count": 22
    }
   ],
   "source": [
    "df_joined = batting_select >> left_join(teams_select, by=['teamID', 'yearID'])\n",
    "df_joined.head()"
   ]
  },
  {
   "cell_type": "markdown",
   "metadata": {},
   "source": [
    "#### Filter, group by, and aggregate to get the desired result."
   ]
  },
  {
   "cell_type": "code",
   "execution_count": 23,
   "metadata": {},
   "outputs": [
    {
     "output_type": "execute_result",
     "data": {
      "text/plain": [
       "                          park                  name  total_runs\n",
       "0                  Chase Field  Arizona Diamondbacks         720\n",
       "1                 Turner Field        Atlanta Braves         735\n",
       "2  Oriole Park at Camden Yards     Baltimore Orioles         741\n",
       "3               Fenway Park II        Boston Red Sox         872\n",
       "4                Wrigley Field          Chicago Cubs         707"
      ],
      "text/html": "<div>\n<style scoped>\n    .dataframe tbody tr th:only-of-type {\n        vertical-align: middle;\n    }\n\n    .dataframe tbody tr th {\n        vertical-align: top;\n    }\n\n    .dataframe thead th {\n        text-align: right;\n    }\n</style>\n<table border=\"1\" class=\"dataframe\">\n  <thead>\n    <tr style=\"text-align: right;\">\n      <th></th>\n      <th>park</th>\n      <th>name</th>\n      <th>total_runs</th>\n    </tr>\n  </thead>\n  <tbody>\n    <tr>\n      <th>0</th>\n      <td>Chase Field</td>\n      <td>Arizona Diamondbacks</td>\n      <td>720</td>\n    </tr>\n    <tr>\n      <th>1</th>\n      <td>Turner Field</td>\n      <td>Atlanta Braves</td>\n      <td>735</td>\n    </tr>\n    <tr>\n      <th>2</th>\n      <td>Oriole Park at Camden Yards</td>\n      <td>Baltimore Orioles</td>\n      <td>741</td>\n    </tr>\n    <tr>\n      <th>3</th>\n      <td>Fenway Park II</td>\n      <td>Boston Red Sox</td>\n      <td>872</td>\n    </tr>\n    <tr>\n      <th>4</th>\n      <td>Wrigley Field</td>\n      <td>Chicago Cubs</td>\n      <td>707</td>\n    </tr>\n  </tbody>\n</table>\n</div>"
     },
     "metadata": {},
     "execution_count": 23
    }
   ],
   "source": [
    "runs_per_team09 = (df_joined\n",
    "                   >> filter_by(X.yearID == 2009)\n",
    "                   >> group_by(X.name, X.park)\n",
    "                   >> summarise(total_runs = X.R.sum()))\n",
    "runs_per_team09.head()"
   ]
  },
  {
   "cell_type": "code",
   "execution_count": 24,
   "metadata": {},
   "outputs": [
    {
     "output_type": "execute_result",
     "data": {
      "text/plain": [
       "(30, 3)"
      ]
     },
     "metadata": {},
     "execution_count": 24
    }
   ],
   "source": [
    "runs_per_team09.shape"
   ]
  },
  {
   "cell_type": "markdown",
   "metadata": {},
   "source": [
    "## Joins are expensive!\n",
    "\n",
    "**Be careful when joining large tables!! Especially for full outer joins!!!**\n",
    "\n",
    "When joining table `A` to table `B`, \n",
    "\n",
    "* `inner_join` performs `min(len(A), len(B))` comparisons\n",
    "* `outer_join` performs `len(A)*len(B)` row comparisons.\n",
    "* `left_join` and `right_join` are somewhere inbetween (depending on how we treat multiples)."
   ]
  },
  {
   "cell_type": "markdown",
   "metadata": {},
   "source": [
    "## Outer joins (can) produce LARGE tables.\n",
    "\n",
    "**Be careful when joining large tables!! Especially for full outer joins!!!**\n",
    "\n",
    "When joining table `A` to table `B`, \n",
    "\n",
    "* `outer_join` might produce `len(A)*len(B)` rows (worst case)\n",
    "* `left_join` and `right_join` are similar if we don't drop multiples."
   ]
  },
  {
   "cell_type": "markdown",
   "metadata": {},
   "source": [
    "#### Last example "
   ]
  },
  {
   "cell_type": "code",
   "execution_count": 25,
   "metadata": {},
   "outputs": [
    {
     "output_type": "execute_result",
     "data": {
      "text/plain": [
       "314229825"
      ]
     },
     "metadata": {},
     "execution_count": 25
    }
   ],
   "source": [
    "len(batting_select)*len(teams_select)"
   ]
  },
  {
   "cell_type": "markdown",
   "metadata": {},
   "source": [
    "## The joining mantra: Filter/aggregate THEN join\n",
    "\n",
    "By filtering and/or aggregating before joining, you will\n",
    "\n",
    "* reduce the amount of work\n",
    "* protect against really large output"
   ]
  },
  {
   "cell_type": "markdown",
   "metadata": {},
   "source": [
    "#### Filter and aggregate to total runs per team per year"
   ]
  },
  {
   "cell_type": "code",
   "execution_count": 26,
   "metadata": {},
   "outputs": [
    {
     "output_type": "execute_result",
     "data": {
      "text/plain": [
       "  teamID  total_runs\n",
       "0    ARI         720\n",
       "1    ATL         735\n",
       "2    BAL         741\n",
       "3    BOS         872\n",
       "4    CHA         724"
      ],
      "text/html": "<div>\n<style scoped>\n    .dataframe tbody tr th:only-of-type {\n        vertical-align: middle;\n    }\n\n    .dataframe tbody tr th {\n        vertical-align: top;\n    }\n\n    .dataframe thead th {\n        text-align: right;\n    }\n</style>\n<table border=\"1\" class=\"dataframe\">\n  <thead>\n    <tr style=\"text-align: right;\">\n      <th></th>\n      <th>teamID</th>\n      <th>total_runs</th>\n    </tr>\n  </thead>\n  <tbody>\n    <tr>\n      <th>0</th>\n      <td>ARI</td>\n      <td>720</td>\n    </tr>\n    <tr>\n      <th>1</th>\n      <td>ATL</td>\n      <td>735</td>\n    </tr>\n    <tr>\n      <th>2</th>\n      <td>BAL</td>\n      <td>741</td>\n    </tr>\n    <tr>\n      <th>3</th>\n      <td>BOS</td>\n      <td>872</td>\n    </tr>\n    <tr>\n      <th>4</th>\n      <td>CHA</td>\n      <td>724</td>\n    </tr>\n  </tbody>\n</table>\n</div>"
     },
     "metadata": {},
     "execution_count": 26
    }
   ],
   "source": [
    "runs = (batting_select\n",
    "        >> filter_by(X.yearID == 2009)\n",
    "        >> group_by(X.teamID)\n",
    "        >> summarise(total_runs = X.R.sum()))\n",
    "\n",
    "runs.head()"
   ]
  },
  {
   "cell_type": "markdown",
   "metadata": {},
   "source": [
    "#### Filter down to 2009 teams"
   ]
  },
  {
   "cell_type": "code",
   "execution_count": 27,
   "metadata": {},
   "outputs": [
    {
     "output_type": "execute_result",
     "data": {
      "text/plain": [
       "     teamID                  name                         park\n",
       "2595    ARI  Arizona Diamondbacks                  Chase Field\n",
       "2596    ATL        Atlanta Braves                 Turner Field\n",
       "2597    BAL     Baltimore Orioles  Oriole Park at Camden Yards\n",
       "2598    BOS        Boston Red Sox               Fenway Park II\n",
       "2599    CHA     Chicago White Sox          U.S. Cellular Field"
      ],
      "text/html": "<div>\n<style scoped>\n    .dataframe tbody tr th:only-of-type {\n        vertical-align: middle;\n    }\n\n    .dataframe tbody tr th {\n        vertical-align: top;\n    }\n\n    .dataframe thead th {\n        text-align: right;\n    }\n</style>\n<table border=\"1\" class=\"dataframe\">\n  <thead>\n    <tr style=\"text-align: right;\">\n      <th></th>\n      <th>teamID</th>\n      <th>name</th>\n      <th>park</th>\n    </tr>\n  </thead>\n  <tbody>\n    <tr>\n      <th>2595</th>\n      <td>ARI</td>\n      <td>Arizona Diamondbacks</td>\n      <td>Chase Field</td>\n    </tr>\n    <tr>\n      <th>2596</th>\n      <td>ATL</td>\n      <td>Atlanta Braves</td>\n      <td>Turner Field</td>\n    </tr>\n    <tr>\n      <th>2597</th>\n      <td>BAL</td>\n      <td>Baltimore Orioles</td>\n      <td>Oriole Park at Camden Yards</td>\n    </tr>\n    <tr>\n      <th>2598</th>\n      <td>BOS</td>\n      <td>Boston Red Sox</td>\n      <td>Fenway Park II</td>\n    </tr>\n    <tr>\n      <th>2599</th>\n      <td>CHA</td>\n      <td>Chicago White Sox</td>\n      <td>U.S. Cellular Field</td>\n    </tr>\n  </tbody>\n</table>\n</div>"
     },
     "metadata": {},
     "execution_count": 27
    }
   ],
   "source": [
    "teams09 = (teams_select\n",
    "           >> filter_by(X.yearID == 2009)\n",
    "           >> drop(X.yearID)\n",
    "          )\n",
    "teams09.head()"
   ]
  },
  {
   "cell_type": "code",
   "execution_count": 36,
   "metadata": {},
   "outputs": [
    {
     "data": {
      "text/plain": [
       "900"
      ]
     },
     "execution_count": 36,
     "metadata": {},
     "output_type": "execute_result"
    }
   ],
   "source": [
    "len(runs)*len(teams09)"
   ]
  },
  {
   "cell_type": "code",
   "execution_count": 28,
   "metadata": {},
   "outputs": [
    {
     "output_type": "execute_result",
     "data": {
      "text/plain": [
       "   total_runs                  name                         park\n",
       "0         720  Arizona Diamondbacks                  Chase Field\n",
       "1         735        Atlanta Braves                 Turner Field\n",
       "2         741     Baltimore Orioles  Oriole Park at Camden Yards\n",
       "3         872        Boston Red Sox               Fenway Park II\n",
       "4         724     Chicago White Sox          U.S. Cellular Field"
      ],
      "text/html": "<div>\n<style scoped>\n    .dataframe tbody tr th:only-of-type {\n        vertical-align: middle;\n    }\n\n    .dataframe tbody tr th {\n        vertical-align: top;\n    }\n\n    .dataframe thead th {\n        text-align: right;\n    }\n</style>\n<table border=\"1\" class=\"dataframe\">\n  <thead>\n    <tr style=\"text-align: right;\">\n      <th></th>\n      <th>total_runs</th>\n      <th>name</th>\n      <th>park</th>\n    </tr>\n  </thead>\n  <tbody>\n    <tr>\n      <th>0</th>\n      <td>720</td>\n      <td>Arizona Diamondbacks</td>\n      <td>Chase Field</td>\n    </tr>\n    <tr>\n      <th>1</th>\n      <td>735</td>\n      <td>Atlanta Braves</td>\n      <td>Turner Field</td>\n    </tr>\n    <tr>\n      <th>2</th>\n      <td>741</td>\n      <td>Baltimore Orioles</td>\n      <td>Oriole Park at Camden Yards</td>\n    </tr>\n    <tr>\n      <th>3</th>\n      <td>872</td>\n      <td>Boston Red Sox</td>\n      <td>Fenway Park II</td>\n    </tr>\n    <tr>\n      <th>4</th>\n      <td>724</td>\n      <td>Chicago White Sox</td>\n      <td>U.S. Cellular Field</td>\n    </tr>\n  </tbody>\n</table>\n</div>"
     },
     "metadata": {},
     "execution_count": 28
    }
   ],
   "source": [
    "runs_per_team09_new = (runs \n",
    "                       >> left_join(teams09, by='teamID')\n",
    "                       >> drop(X.teamID))\n",
    "runs_per_team09_new.head()"
   ]
  },
  {
   "cell_type": "code",
   "execution_count": 38,
   "metadata": {},
   "outputs": [
    {
     "data": {
      "text/plain": [
       "(30, 3)"
      ]
     },
     "execution_count": 38,
     "metadata": {},
     "output_type": "execute_result"
    }
   ],
   "source": [
    "runs_per_team09_new.shape"
   ]
  },
  {
   "cell_type": "markdown",
   "metadata": {},
   "source": [
    "## Don't worry about speed until it matters!\n",
    "\n",
    "* I don't emphasize speed most of the time.\n",
    "* In this case, either approach was nearly instant.\n",
    "* Still ... `join`s are *so dangerous* that I make an exception here!"
   ]
  },
  {
   "cell_type": "markdown",
   "metadata": {
    "slideshow": {
     "slide_type": "slide"
    }
   },
   "source": [
    "## <font color=\"red\"> Exercise 1 </font>\n",
    "\n",
    "Determine all the players that have hit more than 100 home runs in a season.  The final table should include the players proper name, as well as the team name.  \n",
    "\n",
    "**Hint:** You will need join the files listed below.  To get credit for this exercise, use the join methods presented above."
   ]
  },
  {
   "cell_type": "code",
   "execution_count": 30,
   "metadata": {
    "slideshow": {
     "slide_type": "fragment"
    }
   },
   "outputs": [],
   "source": [
    "files = (\"./data/baseball/core/Batting.csv\", \n",
    "         \"./data/baseball/core/People.csv\",\n",
    "         \"./data/baseball/core/Teams.csv\")"
   ]
  },
  {
   "cell_type": "code",
   "execution_count": null,
   "metadata": {},
   "outputs": [],
   "source": [
    "#I am 95% certain that no one has ever hit 100 homeruns in a single season..."
   ]
  },
  {
   "cell_type": "code",
   "execution_count": 31,
   "metadata": {
    "slideshow": {
     "slide_type": "fragment"
    }
   },
   "outputs": [],
   "source": [
    "# Your code here\n",
    "\n",
    "batting, people, teams = [pd.read_csv(f) for f in files]"
   ]
  },
  {
   "cell_type": "code",
   "execution_count": 32,
   "metadata": {},
   "outputs": [
    {
     "output_type": "stream",
     "name": "stdout",
     "text": [
      "<class 'pandas.core.frame.DataFrame'>\nRangeIndex: 107429 entries, 0 to 107428\nData columns (total 22 columns):\n #   Column    Non-Null Count   Dtype  \n---  ------    --------------   -----  \n 0   playerID  107429 non-null  object \n 1   yearID    107429 non-null  int64  \n 2   stint     107429 non-null  int64  \n 3   teamID    107429 non-null  object \n 4   lgID      106691 non-null  object \n 5   G         107429 non-null  int64  \n 6   AB        107429 non-null  int64  \n 7   R         107429 non-null  int64  \n 8   H         107429 non-null  int64  \n 9   2B        107429 non-null  int64  \n 10  3B        107429 non-null  int64  \n 11  HR        107429 non-null  int64  \n 12  RBI       106673 non-null  float64\n 13  SB        105061 non-null  float64\n 14  CS        83888 non-null   float64\n 15  BB        107429 non-null  int64  \n 16  SO        105329 non-null  float64\n 17  IBB       70778 non-null   float64\n 18  HBP       104612 non-null  float64\n 19  SH        101360 non-null  float64\n 20  SF        71325 non-null   float64\n 21  GIDP      81988 non-null   float64\ndtypes: float64(9), int64(10), object(3)\nmemory usage: 18.0+ MB\n"
     ]
    }
   ],
   "source": [
    "batting.info()"
   ]
  },
  {
   "cell_type": "code",
   "execution_count": 35,
   "metadata": {},
   "outputs": [
    {
     "output_type": "execute_result",
     "data": {
      "text/plain": [
       "    playerID  yearID  stint teamID lgID   G   AB   R   H  2B  ...   RBI   SB  \\\n",
       "0  abercda01    1871      1    TRO  NaN   1    4   0   0   0  ...   0.0  0.0   \n",
       "1   addybo01    1871      1    RC1  NaN  25  118  30  32   6  ...  13.0  8.0   \n",
       "2  allisar01    1871      1    CL1  NaN  29  137  28  40   4  ...  19.0  3.0   \n",
       "3  allisdo01    1871      1    WS3  NaN  27  133  28  44  10  ...  27.0  1.0   \n",
       "4  ansonca01    1871      1    RC1  NaN  25  120  29  39  11  ...  16.0  6.0   \n",
       "\n",
       "    CS  BB   SO  IBB  HBP  SH  SF  GIDP  \n",
       "0  0.0   0  0.0  NaN  NaN NaN NaN   0.0  \n",
       "1  1.0   4  0.0  NaN  NaN NaN NaN   0.0  \n",
       "2  1.0   2  5.0  NaN  NaN NaN NaN   1.0  \n",
       "3  1.0   0  2.0  NaN  NaN NaN NaN   0.0  \n",
       "4  2.0   2  1.0  NaN  NaN NaN NaN   0.0  \n",
       "\n",
       "[5 rows x 22 columns]"
      ],
      "text/html": "<div>\n<style scoped>\n    .dataframe tbody tr th:only-of-type {\n        vertical-align: middle;\n    }\n\n    .dataframe tbody tr th {\n        vertical-align: top;\n    }\n\n    .dataframe thead th {\n        text-align: right;\n    }\n</style>\n<table border=\"1\" class=\"dataframe\">\n  <thead>\n    <tr style=\"text-align: right;\">\n      <th></th>\n      <th>playerID</th>\n      <th>yearID</th>\n      <th>stint</th>\n      <th>teamID</th>\n      <th>lgID</th>\n      <th>G</th>\n      <th>AB</th>\n      <th>R</th>\n      <th>H</th>\n      <th>2B</th>\n      <th>...</th>\n      <th>RBI</th>\n      <th>SB</th>\n      <th>CS</th>\n      <th>BB</th>\n      <th>SO</th>\n      <th>IBB</th>\n      <th>HBP</th>\n      <th>SH</th>\n      <th>SF</th>\n      <th>GIDP</th>\n    </tr>\n  </thead>\n  <tbody>\n    <tr>\n      <th>0</th>\n      <td>abercda01</td>\n      <td>1871</td>\n      <td>1</td>\n      <td>TRO</td>\n      <td>NaN</td>\n      <td>1</td>\n      <td>4</td>\n      <td>0</td>\n      <td>0</td>\n      <td>0</td>\n      <td>...</td>\n      <td>0.0</td>\n      <td>0.0</td>\n      <td>0.0</td>\n      <td>0</td>\n      <td>0.0</td>\n      <td>NaN</td>\n      <td>NaN</td>\n      <td>NaN</td>\n      <td>NaN</td>\n      <td>0.0</td>\n    </tr>\n    <tr>\n      <th>1</th>\n      <td>addybo01</td>\n      <td>1871</td>\n      <td>1</td>\n      <td>RC1</td>\n      <td>NaN</td>\n      <td>25</td>\n      <td>118</td>\n      <td>30</td>\n      <td>32</td>\n      <td>6</td>\n      <td>...</td>\n      <td>13.0</td>\n      <td>8.0</td>\n      <td>1.0</td>\n      <td>4</td>\n      <td>0.0</td>\n      <td>NaN</td>\n      <td>NaN</td>\n      <td>NaN</td>\n      <td>NaN</td>\n      <td>0.0</td>\n    </tr>\n    <tr>\n      <th>2</th>\n      <td>allisar01</td>\n      <td>1871</td>\n      <td>1</td>\n      <td>CL1</td>\n      <td>NaN</td>\n      <td>29</td>\n      <td>137</td>\n      <td>28</td>\n      <td>40</td>\n      <td>4</td>\n      <td>...</td>\n      <td>19.0</td>\n      <td>3.0</td>\n      <td>1.0</td>\n      <td>2</td>\n      <td>5.0</td>\n      <td>NaN</td>\n      <td>NaN</td>\n      <td>NaN</td>\n      <td>NaN</td>\n      <td>1.0</td>\n    </tr>\n    <tr>\n      <th>3</th>\n      <td>allisdo01</td>\n      <td>1871</td>\n      <td>1</td>\n      <td>WS3</td>\n      <td>NaN</td>\n      <td>27</td>\n      <td>133</td>\n      <td>28</td>\n      <td>44</td>\n      <td>10</td>\n      <td>...</td>\n      <td>27.0</td>\n      <td>1.0</td>\n      <td>1.0</td>\n      <td>0</td>\n      <td>2.0</td>\n      <td>NaN</td>\n      <td>NaN</td>\n      <td>NaN</td>\n      <td>NaN</td>\n      <td>0.0</td>\n    </tr>\n    <tr>\n      <th>4</th>\n      <td>ansonca01</td>\n      <td>1871</td>\n      <td>1</td>\n      <td>RC1</td>\n      <td>NaN</td>\n      <td>25</td>\n      <td>120</td>\n      <td>29</td>\n      <td>39</td>\n      <td>11</td>\n      <td>...</td>\n      <td>16.0</td>\n      <td>6.0</td>\n      <td>2.0</td>\n      <td>2</td>\n      <td>1.0</td>\n      <td>NaN</td>\n      <td>NaN</td>\n      <td>NaN</td>\n      <td>NaN</td>\n      <td>0.0</td>\n    </tr>\n  </tbody>\n</table>\n<p>5 rows × 22 columns</p>\n</div>"
     },
     "metadata": {},
     "execution_count": 35
    }
   ],
   "source": [
    "batting.head()"
   ]
  },
  {
   "cell_type": "code",
   "execution_count": 33,
   "metadata": {},
   "outputs": [
    {
     "output_type": "stream",
     "name": "stdout",
     "text": [
      "<class 'pandas.core.frame.DataFrame'>\nRangeIndex: 20090 entries, 0 to 20089\nData columns (total 24 columns):\n #   Column        Non-Null Count  Dtype  \n---  ------        --------------  -----  \n 0   playerID      20090 non-null  object \n 1   birthYear     19976 non-null  float64\n 2   birthMonth    19808 non-null  float64\n 3   birthDay      19666 non-null  float64\n 4   birthCountry  20029 non-null  object \n 5   birthState    19555 non-null  object \n 6   birthCity     19916 non-null  object \n 7   deathYear     9858 non-null   float64\n 8   deathMonth    9857 non-null   float64\n 9   deathDay      9856 non-null   float64\n 10  deathCountry  9855 non-null   object \n 11  deathState    9805 non-null   object \n 12  deathCity     9850 non-null   object \n 13  nameFirst     20053 non-null  object \n 14  nameLast      20090 non-null  object \n 15  nameGiven     20053 non-null  object \n 16  weight        19273 non-null  float64\n 17  height        19353 non-null  float64\n 18  bats          18910 non-null  object \n 19  throws        19113 non-null  object \n 20  debut         19892 non-null  object \n 21  finalGame     19892 non-null  object \n 22  retroID       20034 non-null  object \n 23  bbrefID       20088 non-null  object \ndtypes: float64(8), object(16)\nmemory usage: 3.7+ MB\n"
     ]
    }
   ],
   "source": [
    "people.info()"
   ]
  },
  {
   "cell_type": "code",
   "execution_count": 34,
   "metadata": {},
   "outputs": [
    {
     "output_type": "stream",
     "name": "stdout",
     "text": [
      "<class 'pandas.core.frame.DataFrame'>\nRangeIndex: 2925 entries, 0 to 2924\nData columns (total 48 columns):\n #   Column          Non-Null Count  Dtype  \n---  ------          --------------  -----  \n 0   yearID          2925 non-null   int64  \n 1   lgID            2875 non-null   object \n 2   teamID          2925 non-null   object \n 3   franchID        2925 non-null   object \n 4   divID           1408 non-null   object \n 5   Rank            2925 non-null   int64  \n 6   G               2925 non-null   int64  \n 7   Ghome           2526 non-null   float64\n 8   W               2925 non-null   int64  \n 9   L               2925 non-null   int64  \n 10  DivWin          1380 non-null   object \n 11  WCWin           744 non-null    object \n 12  LgWin           2897 non-null   object \n 13  WSWin           2568 non-null   object \n 14  R               2925 non-null   int64  \n 15  AB              2925 non-null   int64  \n 16  H               2925 non-null   int64  \n 17  2B              2925 non-null   int64  \n 18  3B              2925 non-null   int64  \n 19  HR              2925 non-null   int64  \n 20  BB              2924 non-null   float64\n 21  SO              2909 non-null   float64\n 22  SB              2799 non-null   float64\n 23  CS              2093 non-null   float64\n 24  HBP             1767 non-null   float64\n 25  SF              1384 non-null   float64\n 26  RA              2925 non-null   int64  \n 27  ER              2925 non-null   int64  \n 28  ERA             2925 non-null   float64\n 29  CG              2925 non-null   int64  \n 30  SHO             2925 non-null   int64  \n 31  SV              2925 non-null   int64  \n 32  IPouts          2925 non-null   int64  \n 33  HA              2925 non-null   int64  \n 34  HRA             2925 non-null   int64  \n 35  BBA             2925 non-null   int64  \n 36  SOA             2925 non-null   int64  \n 37  E               2925 non-null   int64  \n 38  DP              2925 non-null   int64  \n 39  FP              2925 non-null   float64\n 40  name            2925 non-null   object \n 41  park            2891 non-null   object \n 42  attendance      2646 non-null   float64\n 43  BPF             2925 non-null   int64  \n 44  PPF             2925 non-null   int64  \n 45  teamIDBR        2925 non-null   object \n 46  teamIDlahman45  2925 non-null   object \n 47  teamIDretro     2925 non-null   object \ndtypes: float64(10), int64(25), object(13)\nmemory usage: 1.1+ MB\n"
     ]
    }
   ],
   "source": [
    "teams.info()"
   ]
  },
  {
   "cell_type": "code",
   "execution_count": 39,
   "metadata": {},
   "outputs": [
    {
     "output_type": "execute_result",
     "data": {
      "text/plain": [
       "Empty DataFrame\n",
       "Columns: [playerID, yearID, stint, teamID, lgID, G, AB, R, H, 2B, 3B, HR, RBI, SB, CS, BB, SO, IBB, HBP, SH, SF, GIDP]\n",
       "Index: []\n",
       "\n",
       "[0 rows x 22 columns]"
      ],
      "text/html": "<div>\n<style scoped>\n    .dataframe tbody tr th:only-of-type {\n        vertical-align: middle;\n    }\n\n    .dataframe tbody tr th {\n        vertical-align: top;\n    }\n\n    .dataframe thead th {\n        text-align: right;\n    }\n</style>\n<table border=\"1\" class=\"dataframe\">\n  <thead>\n    <tr style=\"text-align: right;\">\n      <th></th>\n      <th>playerID</th>\n      <th>yearID</th>\n      <th>stint</th>\n      <th>teamID</th>\n      <th>lgID</th>\n      <th>G</th>\n      <th>AB</th>\n      <th>R</th>\n      <th>H</th>\n      <th>2B</th>\n      <th>...</th>\n      <th>RBI</th>\n      <th>SB</th>\n      <th>CS</th>\n      <th>BB</th>\n      <th>SO</th>\n      <th>IBB</th>\n      <th>HBP</th>\n      <th>SH</th>\n      <th>SF</th>\n      <th>GIDP</th>\n    </tr>\n  </thead>\n  <tbody>\n  </tbody>\n</table>\n<p>0 rows × 22 columns</p>\n</div>"
     },
     "metadata": {},
     "execution_count": 39
    }
   ],
   "source": [
    "#first, I need every player that hit at least 101 home runs in at least one year\n",
    "\n",
    "batting_100HR = (batting\n",
    "                >> filter_by(X[\"HR\"] > 100)\n",
    "\n",
    "\n",
    ")\n",
    "\n",
    "batting_100HR"
   ]
  },
  {
   "cell_type": "code",
   "execution_count": 44,
   "metadata": {},
   "outputs": [
    {
     "output_type": "execute_result",
     "data": {
      "text/plain": [
       "Empty DataFrame\n",
       "Columns: [playerID, teamID]\n",
       "Index: []"
      ],
      "text/html": "<div>\n<style scoped>\n    .dataframe tbody tr th:only-of-type {\n        vertical-align: middle;\n    }\n\n    .dataframe tbody tr th {\n        vertical-align: top;\n    }\n\n    .dataframe thead th {\n        text-align: right;\n    }\n</style>\n<table border=\"1\" class=\"dataframe\">\n  <thead>\n    <tr style=\"text-align: right;\">\n      <th></th>\n      <th>playerID</th>\n      <th>teamID</th>\n    </tr>\n  </thead>\n  <tbody>\n  </tbody>\n</table>\n</div>"
     },
     "metadata": {},
     "execution_count": 44
    }
   ],
   "source": [
    "#well, this is awkward, I can still get the columns at least assuming there was anybody who fit this\n",
    "\n",
    "#I would need the columns playerID and TeamID for joins\n",
    "\n",
    "batting_100HR = (batting\n",
    "                >> filter_by(X[\"HR\"] > 100)\n",
    "                >> select(X[\"playerID\"], X[\"teamID\"])\n",
    ")\n",
    "\n",
    "batting_100HR\n"
   ]
  },
  {
   "cell_type": "code",
   "execution_count": 50,
   "metadata": {},
   "outputs": [
    {
     "output_type": "stream",
     "name": "stdout",
     "text": [
      "<class 'pandas.core.frame.DataFrame'>\nIndex: 0 entries\nData columns (total 4 columns):\n #   Column     Non-Null Count  Dtype \n---  ------     --------------  ----- \n 0   nameFirst  0 non-null      object\n 1   nameLast   0 non-null      object\n 2   nameGiven  0 non-null      object\n 3   teamID     0 non-null      object\ndtypes: object(4)\nmemory usage: 0.0+ bytes\n"
     ]
    }
   ],
   "source": [
    "#now, I would need to join this onto players to get the player name\n",
    "\n",
    "#I'll use a left join\n",
    "\n",
    "batting_100HR = (batting\n",
    "                >> filter_by(X[\"HR\"] > 100)\n",
    "                >> select(X[\"playerID\"], X[\"teamID\"])\n",
    "                >> left_join(people, by=\"playerID\")\n",
    "                >> select(X[\"nameFirst\"], X[\"nameLast\"], X[\"nameGiven\"], X[\"teamID\"])\n",
    ")\n",
    "\n",
    "batting_100HR.info()"
   ]
  },
  {
   "cell_type": "code",
   "execution_count": 55,
   "metadata": {},
   "outputs": [
    {
     "output_type": "execute_result",
     "data": {
      "text/plain": [
       "Empty DataFrame\n",
       "Columns: [nameFirst, nameLast, nameGiven, teamID, name]\n",
       "Index: []"
      ],
      "text/html": "<div>\n<style scoped>\n    .dataframe tbody tr th:only-of-type {\n        vertical-align: middle;\n    }\n\n    .dataframe tbody tr th {\n        vertical-align: top;\n    }\n\n    .dataframe thead th {\n        text-align: right;\n    }\n</style>\n<table border=\"1\" class=\"dataframe\">\n  <thead>\n    <tr style=\"text-align: right;\">\n      <th></th>\n      <th>nameFirst</th>\n      <th>nameLast</th>\n      <th>nameGiven</th>\n      <th>teamID</th>\n      <th>name</th>\n    </tr>\n  </thead>\n  <tbody>\n  </tbody>\n</table>\n</div>"
     },
     "metadata": {},
     "execution_count": 55
    }
   ],
   "source": [
    "#now to grab the teams\n",
    "\n",
    "batting_100HR_players = (batting\n",
    "                >> filter_by(X[\"HR\"] > 100)\n",
    "                >> select(X[\"playerID\"], X[\"teamID\"])\n",
    "                >> left_join(people, by=\"playerID\")\n",
    "                >> select(X[\"nameFirst\"], X[\"nameLast\"], X[\"nameGiven\"], X[\"teamID\"])\n",
    "                >> left_join(teams, by=\"teamID\")\n",
    "                >> select(X[\"nameFirst\"], X[\"nameLast\"], X[\"nameGiven\"], X[\"teamID\"], X[\"name\"])\n",
    ")\n",
    "\n",
    "batting_100HR_players\n"
   ]
  },
  {
   "source": [
    "But this will grab multiple teams, so we I will adjust it slightly"
   ],
   "cell_type": "markdown",
   "metadata": {}
  },
  {
   "cell_type": "code",
   "execution_count": 91,
   "metadata": {},
   "outputs": [
    {
     "output_type": "execute_result",
     "data": {
      "text/plain": [
       "  nameFirst nameLast       nameGiven                  name  yearID\n",
       "0     Roger    Maris    Roger Eugene      New York Yankees    1961\n",
       "1      Mark  McGwire      Mark David   St. Louis Cardinals    1998\n",
       "2     Sammy     Sosa  Samuel Peralta          Chicago Cubs    1998\n",
       "3      Mark  McGwire      Mark David   St. Louis Cardinals    1999\n",
       "4     Sammy     Sosa  Samuel Peralta          Chicago Cubs    1999\n",
       "5     Barry    Bonds     Barry Lamar  San Francisco Giants    2001\n",
       "6     Sammy     Sosa  Samuel Peralta          Chicago Cubs    2001"
      ],
      "text/html": "<div>\n<style scoped>\n    .dataframe tbody tr th:only-of-type {\n        vertical-align: middle;\n    }\n\n    .dataframe tbody tr th {\n        vertical-align: top;\n    }\n\n    .dataframe thead th {\n        text-align: right;\n    }\n</style>\n<table border=\"1\" class=\"dataframe\">\n  <thead>\n    <tr style=\"text-align: right;\">\n      <th></th>\n      <th>nameFirst</th>\n      <th>nameLast</th>\n      <th>nameGiven</th>\n      <th>name</th>\n      <th>yearID</th>\n    </tr>\n  </thead>\n  <tbody>\n    <tr>\n      <th>0</th>\n      <td>Roger</td>\n      <td>Maris</td>\n      <td>Roger Eugene</td>\n      <td>New York Yankees</td>\n      <td>1961</td>\n    </tr>\n    <tr>\n      <th>1</th>\n      <td>Mark</td>\n      <td>McGwire</td>\n      <td>Mark David</td>\n      <td>St. Louis Cardinals</td>\n      <td>1998</td>\n    </tr>\n    <tr>\n      <th>2</th>\n      <td>Sammy</td>\n      <td>Sosa</td>\n      <td>Samuel Peralta</td>\n      <td>Chicago Cubs</td>\n      <td>1998</td>\n    </tr>\n    <tr>\n      <th>3</th>\n      <td>Mark</td>\n      <td>McGwire</td>\n      <td>Mark David</td>\n      <td>St. Louis Cardinals</td>\n      <td>1999</td>\n    </tr>\n    <tr>\n      <th>4</th>\n      <td>Sammy</td>\n      <td>Sosa</td>\n      <td>Samuel Peralta</td>\n      <td>Chicago Cubs</td>\n      <td>1999</td>\n    </tr>\n    <tr>\n      <th>5</th>\n      <td>Barry</td>\n      <td>Bonds</td>\n      <td>Barry Lamar</td>\n      <td>San Francisco Giants</td>\n      <td>2001</td>\n    </tr>\n    <tr>\n      <th>6</th>\n      <td>Sammy</td>\n      <td>Sosa</td>\n      <td>Samuel Peralta</td>\n      <td>Chicago Cubs</td>\n      <td>2001</td>\n    </tr>\n  </tbody>\n</table>\n</div>"
     },
     "metadata": {},
     "execution_count": 91
    }
   ],
   "source": [
    "batting_100HR_players = (batting\n",
    "                >> filter_by(X[\"HR\"] > 60)\n",
    "                >> select(X[\"playerID\"], X[\"teamID\"], X[\"yearID\"])\n",
    "                >> left_join(teams, by=[\"teamID\", \"yearID\"])\n",
    "                >> select(X[\"playerID\"], X[\"teamID\"], X[\"yearID\"], X[\"name\"])\n",
    "                >> left_join(people, by=\"playerID\")\n",
    "                >> select(X[\"nameFirst\"], X[\"nameLast\"], X[\"nameGiven\"], X[\"name\"], X[\"yearID\"])\n",
    ")\n",
    "\n",
    "batting_100HR_players"
   ]
  },
  {
   "source": [
    "As funny as this is, I'll run it again with more than 60 to show that it works"
   ],
   "cell_type": "markdown",
   "metadata": {}
  },
  {
   "cell_type": "code",
   "execution_count": 90,
   "metadata": {},
   "outputs": [
    {
     "output_type": "execute_result",
     "data": {
      "text/plain": [
       "  nameFirst nameLast       nameGiven                  name  yearID\n",
       "0     Roger    Maris    Roger Eugene      New York Yankees    1961\n",
       "1      Mark  McGwire      Mark David   St. Louis Cardinals    1998\n",
       "2     Sammy     Sosa  Samuel Peralta          Chicago Cubs    1998\n",
       "3      Mark  McGwire      Mark David   St. Louis Cardinals    1999\n",
       "4     Sammy     Sosa  Samuel Peralta          Chicago Cubs    1999\n",
       "5     Barry    Bonds     Barry Lamar  San Francisco Giants    2001\n",
       "6     Sammy     Sosa  Samuel Peralta          Chicago Cubs    2001"
      ],
      "text/html": "<div>\n<style scoped>\n    .dataframe tbody tr th:only-of-type {\n        vertical-align: middle;\n    }\n\n    .dataframe tbody tr th {\n        vertical-align: top;\n    }\n\n    .dataframe thead th {\n        text-align: right;\n    }\n</style>\n<table border=\"1\" class=\"dataframe\">\n  <thead>\n    <tr style=\"text-align: right;\">\n      <th></th>\n      <th>nameFirst</th>\n      <th>nameLast</th>\n      <th>nameGiven</th>\n      <th>name</th>\n      <th>yearID</th>\n    </tr>\n  </thead>\n  <tbody>\n    <tr>\n      <th>0</th>\n      <td>Roger</td>\n      <td>Maris</td>\n      <td>Roger Eugene</td>\n      <td>New York Yankees</td>\n      <td>1961</td>\n    </tr>\n    <tr>\n      <th>1</th>\n      <td>Mark</td>\n      <td>McGwire</td>\n      <td>Mark David</td>\n      <td>St. Louis Cardinals</td>\n      <td>1998</td>\n    </tr>\n    <tr>\n      <th>2</th>\n      <td>Sammy</td>\n      <td>Sosa</td>\n      <td>Samuel Peralta</td>\n      <td>Chicago Cubs</td>\n      <td>1998</td>\n    </tr>\n    <tr>\n      <th>3</th>\n      <td>Mark</td>\n      <td>McGwire</td>\n      <td>Mark David</td>\n      <td>St. Louis Cardinals</td>\n      <td>1999</td>\n    </tr>\n    <tr>\n      <th>4</th>\n      <td>Sammy</td>\n      <td>Sosa</td>\n      <td>Samuel Peralta</td>\n      <td>Chicago Cubs</td>\n      <td>1999</td>\n    </tr>\n    <tr>\n      <th>5</th>\n      <td>Barry</td>\n      <td>Bonds</td>\n      <td>Barry Lamar</td>\n      <td>San Francisco Giants</td>\n      <td>2001</td>\n    </tr>\n    <tr>\n      <th>6</th>\n      <td>Sammy</td>\n      <td>Sosa</td>\n      <td>Samuel Peralta</td>\n      <td>Chicago Cubs</td>\n      <td>2001</td>\n    </tr>\n  </tbody>\n</table>\n</div>"
     },
     "metadata": {},
     "execution_count": 90
    }
   ],
   "source": [
    "batting_60HR_players = (batting\n",
    "                >> filter_by(X[\"HR\"] > 60)\n",
    "                >> select(X[\"playerID\"], X[\"teamID\"], X[\"yearID\"])\n",
    "                >> left_join(teams, by=[\"teamID\", \"yearID\"])\n",
    "                >> select(X[\"playerID\"], X[\"teamID\"], X[\"yearID\"], X[\"name\"])\n",
    "                >> left_join(people, by=\"playerID\")\n",
    "                >> select(X[\"nameFirst\"], X[\"nameLast\"], X[\"nameGiven\"], X[\"name\"], X[\"yearID\"])\n",
    ")\n",
    "\n",
    "batting_60HR_players"
   ]
  }
 ],
 "metadata": {
  "celltoolbar": "Slideshow",
  "kernelspec": {
   "name": "python376jvsc74a57bd0afb832a54f715cd2f1ddeab6d5270592cc3825ffc87d65c491f17d6f77347d1f",
   "display_name": "Python 3.7.6 64-bit ('base': conda)"
  },
  "language_info": {
   "codemirror_mode": {
    "name": "ipython",
    "version": 3
   },
   "file_extension": ".py",
   "mimetype": "text/x-python",
   "name": "python",
   "nbconvert_exporter": "python",
   "pygments_lexer": "ipython3",
   "version": "3.7.6-final"
  },
  "varInspector": {
   "cols": {
    "lenName": 16,
    "lenType": 16,
    "lenVar": 40
   },
   "kernels_config": {
    "python": {
     "delete_cmd_postfix": "",
     "delete_cmd_prefix": "del ",
     "library": "var_list.py",
     "varRefreshCmd": "print(var_dic_list())"
    },
    "r": {
     "delete_cmd_postfix": ") ",
     "delete_cmd_prefix": "rm(",
     "library": "var_list.r",
     "varRefreshCmd": "cat(var_dic_list()) "
    }
   },
   "types_to_exclude": [
    "module",
    "function",
    "builtin_function_or_method",
    "instance",
    "_Feature"
   ],
   "window_display": false
  }
 },
 "nbformat": 4,
 "nbformat_minor": 2
}