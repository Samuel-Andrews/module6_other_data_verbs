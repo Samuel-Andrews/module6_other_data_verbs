{
 "cells": [
  {
   "cell_type": "markdown",
   "metadata": {},
   "source": [
    "# Concatenating Tables with Set-Like Operations\n",
    "\n",
    "One of the two way of combining two tables is to stack one table on top of the other.  When stacking two tables on top of one another, we need to decide\n",
    "\n",
    "1. If we combine columns based on position or name (and if combining by name, what do we do with mismatches?)\n",
    "2. How to decide which rows to keep.  In this case, we will take some guidance from SQL clauses."
   ]
  },
  {
   "cell_type": "markdown",
   "metadata": {},
   "source": [
    "## Three Types of Operations\n",
    "\n",
    "* **Union:** Keeps rows from either table.\n",
    "* **Intersection:** Only keeps common columns\n",
    "* **Set Difference/Except:** Keep rows from the left table *except* those in the right table."
   ]
  },
  {
   "cell_type": "markdown",
   "metadata": {},
   "source": [
    "## Set Operations in Action \n",
    "\n",
    "<img src=\"./img/table_verbs_set.gif\" width=800>"
   ]
  },
  {
   "cell_type": "markdown",
   "metadata": {},
   "source": [
    "## All Operations Match by Position\n",
    "\n",
    "All operations\n",
    "\n",
    "* Match columns by position\n",
    "* Require same number/type of columns"
   ]
  },
  {
   "cell_type": "markdown",
   "metadata": {},
   "source": [
    "## Distinct Versus All\n",
    "\n",
    "* **UNION/INTERSECT/SET DIFFERENE** are **DISTINCT**\n",
    "    * Only keeps distinct rows, removing duplicates.\n",
    "* **UNION ALL/INTERSECT ALL/SET DIFFERENCE ALL**\n",
    "    * Keeps duplicate rows"
   ]
  },
  {
   "cell_type": "code",
   "execution_count": 1,
   "metadata": {},
   "outputs": [],
   "source": [
    "import pandas as pd\n",
    "from dfply import *"
   ]
  },
  {
   "cell_type": "code",
   "execution_count": 2,
   "metadata": {},
   "outputs": [
    {
     "output_type": "execute_result",
     "data": {
      "text/plain": [
       "   Unnamed: 0 Salesperson  Compact  Sedan  SUV  Truck\n",
       "0           0         Ann       22     18   15     12\n",
       "1           1         Bob       20     14    6     24\n",
       "2           2     Yolanda       19     10   28     17\n",
       "3           3      Xerxes       11     27   17      9"
      ],
      "text/html": "<div>\n<style scoped>\n    .dataframe tbody tr th:only-of-type {\n        vertical-align: middle;\n    }\n\n    .dataframe tbody tr th {\n        vertical-align: top;\n    }\n\n    .dataframe thead th {\n        text-align: right;\n    }\n</style>\n<table border=\"1\" class=\"dataframe\">\n  <thead>\n    <tr style=\"text-align: right;\">\n      <th></th>\n      <th>Unnamed: 0</th>\n      <th>Salesperson</th>\n      <th>Compact</th>\n      <th>Sedan</th>\n      <th>SUV</th>\n      <th>Truck</th>\n    </tr>\n  </thead>\n  <tbody>\n    <tr>\n      <th>0</th>\n      <td>0</td>\n      <td>Ann</td>\n      <td>22</td>\n      <td>18</td>\n      <td>15</td>\n      <td>12</td>\n    </tr>\n    <tr>\n      <th>1</th>\n      <td>1</td>\n      <td>Bob</td>\n      <td>20</td>\n      <td>14</td>\n      <td>6</td>\n      <td>24</td>\n    </tr>\n    <tr>\n      <th>2</th>\n      <td>2</td>\n      <td>Yolanda</td>\n      <td>19</td>\n      <td>10</td>\n      <td>28</td>\n      <td>17</td>\n    </tr>\n    <tr>\n      <th>3</th>\n      <td>3</td>\n      <td>Xerxes</td>\n      <td>11</td>\n      <td>27</td>\n      <td>17</td>\n      <td>9</td>\n    </tr>\n  </tbody>\n</table>\n</div>"
     },
     "metadata": {},
     "execution_count": 2
    }
   ],
   "source": [
    "sales_may = pd.read_csv('./data/auto_sales_may.csv')\n",
    "sales_may"
   ]
  },
  {
   "cell_type": "code",
   "execution_count": 3,
   "metadata": {},
   "outputs": [
    {
     "output_type": "execute_result",
     "data": {
      "text/plain": [
       "   Unnamed: 0 Salesperson  Compact  Sedan  SUV  Truck\n",
       "0           0         Ann       22     18   15     12\n",
       "1           1         Bob       19     12   17     20\n",
       "2           2     Yolanda       19      8   32     15\n",
       "3           3      Xerxes       12     23   18      9"
      ],
      "text/html": "<div>\n<style scoped>\n    .dataframe tbody tr th:only-of-type {\n        vertical-align: middle;\n    }\n\n    .dataframe tbody tr th {\n        vertical-align: top;\n    }\n\n    .dataframe thead th {\n        text-align: right;\n    }\n</style>\n<table border=\"1\" class=\"dataframe\">\n  <thead>\n    <tr style=\"text-align: right;\">\n      <th></th>\n      <th>Unnamed: 0</th>\n      <th>Salesperson</th>\n      <th>Compact</th>\n      <th>Sedan</th>\n      <th>SUV</th>\n      <th>Truck</th>\n    </tr>\n  </thead>\n  <tbody>\n    <tr>\n      <th>0</th>\n      <td>0</td>\n      <td>Ann</td>\n      <td>22</td>\n      <td>18</td>\n      <td>15</td>\n      <td>12</td>\n    </tr>\n    <tr>\n      <th>1</th>\n      <td>1</td>\n      <td>Bob</td>\n      <td>19</td>\n      <td>12</td>\n      <td>17</td>\n      <td>20</td>\n    </tr>\n    <tr>\n      <th>2</th>\n      <td>2</td>\n      <td>Yolanda</td>\n      <td>19</td>\n      <td>8</td>\n      <td>32</td>\n      <td>15</td>\n    </tr>\n    <tr>\n      <th>3</th>\n      <td>3</td>\n      <td>Xerxes</td>\n      <td>12</td>\n      <td>23</td>\n      <td>18</td>\n      <td>9</td>\n    </tr>\n  </tbody>\n</table>\n</div>"
     },
     "metadata": {},
     "execution_count": 3
    }
   ],
   "source": [
    "sales_apr = pd.read_csv('./data/auto_sales_apr.csv')\n",
    "sales_apr"
   ]
  },
  {
   "cell_type": "markdown",
   "metadata": {},
   "source": [
    "## Unions with `dfply`\n",
    "\n",
    "Use `left_table >> union(right_table)`"
   ]
  },
  {
   "cell_type": "code",
   "execution_count": 4,
   "metadata": {
    "scrolled": true
   },
   "outputs": [
    {
     "output_type": "execute_result",
     "data": {
      "text/plain": [
       "   Unnamed: 0 Salesperson  Compact  Sedan  SUV  Truck\n",
       "0           0         Ann       22     18   15     12\n",
       "1           1         Bob       20     14    6     24\n",
       "2           2     Yolanda       19     10   28     17\n",
       "3           3      Xerxes       11     27   17      9\n",
       "1           1         Bob       19     12   17     20\n",
       "2           2     Yolanda       19      8   32     15\n",
       "3           3      Xerxes       12     23   18      9"
      ],
      "text/html": "<div>\n<style scoped>\n    .dataframe tbody tr th:only-of-type {\n        vertical-align: middle;\n    }\n\n    .dataframe tbody tr th {\n        vertical-align: top;\n    }\n\n    .dataframe thead th {\n        text-align: right;\n    }\n</style>\n<table border=\"1\" class=\"dataframe\">\n  <thead>\n    <tr style=\"text-align: right;\">\n      <th></th>\n      <th>Unnamed: 0</th>\n      <th>Salesperson</th>\n      <th>Compact</th>\n      <th>Sedan</th>\n      <th>SUV</th>\n      <th>Truck</th>\n    </tr>\n  </thead>\n  <tbody>\n    <tr>\n      <th>0</th>\n      <td>0</td>\n      <td>Ann</td>\n      <td>22</td>\n      <td>18</td>\n      <td>15</td>\n      <td>12</td>\n    </tr>\n    <tr>\n      <th>1</th>\n      <td>1</td>\n      <td>Bob</td>\n      <td>20</td>\n      <td>14</td>\n      <td>6</td>\n      <td>24</td>\n    </tr>\n    <tr>\n      <th>2</th>\n      <td>2</td>\n      <td>Yolanda</td>\n      <td>19</td>\n      <td>10</td>\n      <td>28</td>\n      <td>17</td>\n    </tr>\n    <tr>\n      <th>3</th>\n      <td>3</td>\n      <td>Xerxes</td>\n      <td>11</td>\n      <td>27</td>\n      <td>17</td>\n      <td>9</td>\n    </tr>\n    <tr>\n      <th>1</th>\n      <td>1</td>\n      <td>Bob</td>\n      <td>19</td>\n      <td>12</td>\n      <td>17</td>\n      <td>20</td>\n    </tr>\n    <tr>\n      <th>2</th>\n      <td>2</td>\n      <td>Yolanda</td>\n      <td>19</td>\n      <td>8</td>\n      <td>32</td>\n      <td>15</td>\n    </tr>\n    <tr>\n      <th>3</th>\n      <td>3</td>\n      <td>Xerxes</td>\n      <td>12</td>\n      <td>23</td>\n      <td>18</td>\n      <td>9</td>\n    </tr>\n  </tbody>\n</table>\n</div>"
     },
     "metadata": {},
     "execution_count": 4
    }
   ],
   "source": [
    "sales_may >> union(sales_apr)"
   ]
  },
  {
   "cell_type": "markdown",
   "metadata": {},
   "source": [
    "## `dfply.union` is distinct\n",
    "\n",
    "Since Ann have the same sales each month, her row only included one row.  Note that we can use `keep='last'` to `keep='first'` to determine which row is kept."
   ]
  },
  {
   "cell_type": "code",
   "execution_count": 5,
   "metadata": {
    "scrolled": false
   },
   "outputs": [
    {
     "output_type": "execute_result",
     "data": {
      "text/plain": [
       "   Unnamed: 0 Salesperson  Compact  Sedan  SUV  Truck\n",
       "1           1         Bob       20     14    6     24\n",
       "2           2     Yolanda       19     10   28     17\n",
       "3           3      Xerxes       11     27   17      9\n",
       "0           0         Ann       22     18   15     12\n",
       "1           1         Bob       19     12   17     20\n",
       "2           2     Yolanda       19      8   32     15\n",
       "3           3      Xerxes       12     23   18      9"
      ],
      "text/html": "<div>\n<style scoped>\n    .dataframe tbody tr th:only-of-type {\n        vertical-align: middle;\n    }\n\n    .dataframe tbody tr th {\n        vertical-align: top;\n    }\n\n    .dataframe thead th {\n        text-align: right;\n    }\n</style>\n<table border=\"1\" class=\"dataframe\">\n  <thead>\n    <tr style=\"text-align: right;\">\n      <th></th>\n      <th>Unnamed: 0</th>\n      <th>Salesperson</th>\n      <th>Compact</th>\n      <th>Sedan</th>\n      <th>SUV</th>\n      <th>Truck</th>\n    </tr>\n  </thead>\n  <tbody>\n    <tr>\n      <th>1</th>\n      <td>1</td>\n      <td>Bob</td>\n      <td>20</td>\n      <td>14</td>\n      <td>6</td>\n      <td>24</td>\n    </tr>\n    <tr>\n      <th>2</th>\n      <td>2</td>\n      <td>Yolanda</td>\n      <td>19</td>\n      <td>10</td>\n      <td>28</td>\n      <td>17</td>\n    </tr>\n    <tr>\n      <th>3</th>\n      <td>3</td>\n      <td>Xerxes</td>\n      <td>11</td>\n      <td>27</td>\n      <td>17</td>\n      <td>9</td>\n    </tr>\n    <tr>\n      <th>0</th>\n      <td>0</td>\n      <td>Ann</td>\n      <td>22</td>\n      <td>18</td>\n      <td>15</td>\n      <td>12</td>\n    </tr>\n    <tr>\n      <th>1</th>\n      <td>1</td>\n      <td>Bob</td>\n      <td>19</td>\n      <td>12</td>\n      <td>17</td>\n      <td>20</td>\n    </tr>\n    <tr>\n      <th>2</th>\n      <td>2</td>\n      <td>Yolanda</td>\n      <td>19</td>\n      <td>8</td>\n      <td>32</td>\n      <td>15</td>\n    </tr>\n    <tr>\n      <th>3</th>\n      <td>3</td>\n      <td>Xerxes</td>\n      <td>12</td>\n      <td>23</td>\n      <td>18</td>\n      <td>9</td>\n    </tr>\n  </tbody>\n</table>\n</div>"
     },
     "metadata": {},
     "execution_count": 5
    }
   ],
   "source": [
    "sales_may >> union(sales_apr, keep='last')"
   ]
  },
  {
   "cell_type": "code",
   "execution_count": 6,
   "metadata": {
    "scrolled": false
   },
   "outputs": [
    {
     "output_type": "execute_result",
     "data": {
      "text/plain": [
       "   Unnamed: 0 Salesperson  Compact  Sedan  SUV  Truck\n",
       "0           0         Ann       22     18   15     12\n",
       "1           1         Bob       20     14    6     24\n",
       "2           2     Yolanda       19     10   28     17\n",
       "3           3      Xerxes       11     27   17      9\n",
       "1           1         Bob       19     12   17     20\n",
       "2           2     Yolanda       19      8   32     15\n",
       "3           3      Xerxes       12     23   18      9"
      ],
      "text/html": "<div>\n<style scoped>\n    .dataframe tbody tr th:only-of-type {\n        vertical-align: middle;\n    }\n\n    .dataframe tbody tr th {\n        vertical-align: top;\n    }\n\n    .dataframe thead th {\n        text-align: right;\n    }\n</style>\n<table border=\"1\" class=\"dataframe\">\n  <thead>\n    <tr style=\"text-align: right;\">\n      <th></th>\n      <th>Unnamed: 0</th>\n      <th>Salesperson</th>\n      <th>Compact</th>\n      <th>Sedan</th>\n      <th>SUV</th>\n      <th>Truck</th>\n    </tr>\n  </thead>\n  <tbody>\n    <tr>\n      <th>0</th>\n      <td>0</td>\n      <td>Ann</td>\n      <td>22</td>\n      <td>18</td>\n      <td>15</td>\n      <td>12</td>\n    </tr>\n    <tr>\n      <th>1</th>\n      <td>1</td>\n      <td>Bob</td>\n      <td>20</td>\n      <td>14</td>\n      <td>6</td>\n      <td>24</td>\n    </tr>\n    <tr>\n      <th>2</th>\n      <td>2</td>\n      <td>Yolanda</td>\n      <td>19</td>\n      <td>10</td>\n      <td>28</td>\n      <td>17</td>\n    </tr>\n    <tr>\n      <th>3</th>\n      <td>3</td>\n      <td>Xerxes</td>\n      <td>11</td>\n      <td>27</td>\n      <td>17</td>\n      <td>9</td>\n    </tr>\n    <tr>\n      <th>1</th>\n      <td>1</td>\n      <td>Bob</td>\n      <td>19</td>\n      <td>12</td>\n      <td>17</td>\n      <td>20</td>\n    </tr>\n    <tr>\n      <th>2</th>\n      <td>2</td>\n      <td>Yolanda</td>\n      <td>19</td>\n      <td>8</td>\n      <td>32</td>\n      <td>15</td>\n    </tr>\n    <tr>\n      <th>3</th>\n      <td>3</td>\n      <td>Xerxes</td>\n      <td>12</td>\n      <td>23</td>\n      <td>18</td>\n      <td>9</td>\n    </tr>\n  </tbody>\n</table>\n</div>"
     },
     "metadata": {},
     "execution_count": 6
    }
   ],
   "source": [
    "sales_may >> union(sales_apr, keep='first')"
   ]
  },
  {
   "cell_type": "markdown",
   "metadata": {},
   "source": [
    "## Making `union_all`\n",
    "\n",
    "We can use `pd.concat` to perform a `UNION ALL`"
   ]
  },
  {
   "cell_type": "code",
   "execution_count": 8,
   "metadata": {},
   "outputs": [
    {
     "output_type": "execute_result",
     "data": {
      "text/plain": [
       "   Unnamed: 0 Salesperson  Compact  Sedan  SUV  Truck\n",
       "0           0         Ann       22     18   15     12\n",
       "1           1         Bob       20     14    6     24\n",
       "2           2     Yolanda       19     10   28     17\n",
       "3           3      Xerxes       11     27   17      9\n",
       "4           0         Ann       22     18   15     12\n",
       "5           1         Bob       19     12   17     20\n",
       "6           2     Yolanda       19      8   32     15\n",
       "7           3      Xerxes       12     23   18      9"
      ],
      "text/html": "<div>\n<style scoped>\n    .dataframe tbody tr th:only-of-type {\n        vertical-align: middle;\n    }\n\n    .dataframe tbody tr th {\n        vertical-align: top;\n    }\n\n    .dataframe thead th {\n        text-align: right;\n    }\n</style>\n<table border=\"1\" class=\"dataframe\">\n  <thead>\n    <tr style=\"text-align: right;\">\n      <th></th>\n      <th>Unnamed: 0</th>\n      <th>Salesperson</th>\n      <th>Compact</th>\n      <th>Sedan</th>\n      <th>SUV</th>\n      <th>Truck</th>\n    </tr>\n  </thead>\n  <tbody>\n    <tr>\n      <th>0</th>\n      <td>0</td>\n      <td>Ann</td>\n      <td>22</td>\n      <td>18</td>\n      <td>15</td>\n      <td>12</td>\n    </tr>\n    <tr>\n      <th>1</th>\n      <td>1</td>\n      <td>Bob</td>\n      <td>20</td>\n      <td>14</td>\n      <td>6</td>\n      <td>24</td>\n    </tr>\n    <tr>\n      <th>2</th>\n      <td>2</td>\n      <td>Yolanda</td>\n      <td>19</td>\n      <td>10</td>\n      <td>28</td>\n      <td>17</td>\n    </tr>\n    <tr>\n      <th>3</th>\n      <td>3</td>\n      <td>Xerxes</td>\n      <td>11</td>\n      <td>27</td>\n      <td>17</td>\n      <td>9</td>\n    </tr>\n    <tr>\n      <th>4</th>\n      <td>0</td>\n      <td>Ann</td>\n      <td>22</td>\n      <td>18</td>\n      <td>15</td>\n      <td>12</td>\n    </tr>\n    <tr>\n      <th>5</th>\n      <td>1</td>\n      <td>Bob</td>\n      <td>19</td>\n      <td>12</td>\n      <td>17</td>\n      <td>20</td>\n    </tr>\n    <tr>\n      <th>6</th>\n      <td>2</td>\n      <td>Yolanda</td>\n      <td>19</td>\n      <td>8</td>\n      <td>32</td>\n      <td>15</td>\n    </tr>\n    <tr>\n      <th>7</th>\n      <td>3</td>\n      <td>Xerxes</td>\n      <td>12</td>\n      <td>23</td>\n      <td>18</td>\n      <td>9</td>\n    </tr>\n  </tbody>\n</table>\n</div>"
     },
     "metadata": {},
     "execution_count": 8
    }
   ],
   "source": [
    "from more_dfply import union_all\n",
    "sales_may >> union_all(sales_apr)"
   ]
  },
  {
   "cell_type": "markdown",
   "metadata": {},
   "source": [
    "## Adding a month column\n",
    "\n",
    "Another way to keep both of Ann's sales rows is adding a month column (which we should probably do anyway)."
   ]
  },
  {
   "cell_type": "code",
   "execution_count": 9,
   "metadata": {
    "scrolled": false
   },
   "outputs": [
    {
     "output_type": "execute_result",
     "data": {
      "text/plain": [
       "   Unnamed: 0 Salesperson  Compact  Sedan  SUV  Truck  month\n",
       "0           0         Ann       22     18   15     12    May\n",
       "1           1         Bob       20     14    6     24    May\n",
       "2           2     Yolanda       19     10   28     17    May\n",
       "3           3      Xerxes       11     27   17      9    May\n",
       "0           0         Ann       22     18   15     12  April\n",
       "1           1         Bob       19     12   17     20  April\n",
       "2           2     Yolanda       19      8   32     15  April\n",
       "3           3      Xerxes       12     23   18      9  April"
      ],
      "text/html": "<div>\n<style scoped>\n    .dataframe tbody tr th:only-of-type {\n        vertical-align: middle;\n    }\n\n    .dataframe tbody tr th {\n        vertical-align: top;\n    }\n\n    .dataframe thead th {\n        text-align: right;\n    }\n</style>\n<table border=\"1\" class=\"dataframe\">\n  <thead>\n    <tr style=\"text-align: right;\">\n      <th></th>\n      <th>Unnamed: 0</th>\n      <th>Salesperson</th>\n      <th>Compact</th>\n      <th>Sedan</th>\n      <th>SUV</th>\n      <th>Truck</th>\n      <th>month</th>\n    </tr>\n  </thead>\n  <tbody>\n    <tr>\n      <th>0</th>\n      <td>0</td>\n      <td>Ann</td>\n      <td>22</td>\n      <td>18</td>\n      <td>15</td>\n      <td>12</td>\n      <td>May</td>\n    </tr>\n    <tr>\n      <th>1</th>\n      <td>1</td>\n      <td>Bob</td>\n      <td>20</td>\n      <td>14</td>\n      <td>6</td>\n      <td>24</td>\n      <td>May</td>\n    </tr>\n    <tr>\n      <th>2</th>\n      <td>2</td>\n      <td>Yolanda</td>\n      <td>19</td>\n      <td>10</td>\n      <td>28</td>\n      <td>17</td>\n      <td>May</td>\n    </tr>\n    <tr>\n      <th>3</th>\n      <td>3</td>\n      <td>Xerxes</td>\n      <td>11</td>\n      <td>27</td>\n      <td>17</td>\n      <td>9</td>\n      <td>May</td>\n    </tr>\n    <tr>\n      <th>0</th>\n      <td>0</td>\n      <td>Ann</td>\n      <td>22</td>\n      <td>18</td>\n      <td>15</td>\n      <td>12</td>\n      <td>April</td>\n    </tr>\n    <tr>\n      <th>1</th>\n      <td>1</td>\n      <td>Bob</td>\n      <td>19</td>\n      <td>12</td>\n      <td>17</td>\n      <td>20</td>\n      <td>April</td>\n    </tr>\n    <tr>\n      <th>2</th>\n      <td>2</td>\n      <td>Yolanda</td>\n      <td>19</td>\n      <td>8</td>\n      <td>32</td>\n      <td>15</td>\n      <td>April</td>\n    </tr>\n    <tr>\n      <th>3</th>\n      <td>3</td>\n      <td>Xerxes</td>\n      <td>12</td>\n      <td>23</td>\n      <td>18</td>\n      <td>9</td>\n      <td>April</td>\n    </tr>\n  </tbody>\n</table>\n</div>"
     },
     "metadata": {},
     "execution_count": 9
    }
   ],
   "source": [
    "sales_may >> mutate(month = 'May') >> union(sales_apr >> mutate(month = 'April'))"
   ]
  },
  {
   "cell_type": "markdown",
   "metadata": {},
   "source": [
    "## Finding common rows with `dfply.intersect`"
   ]
  },
  {
   "cell_type": "code",
   "execution_count": 10,
   "metadata": {},
   "outputs": [
    {
     "output_type": "execute_result",
     "data": {
      "text/plain": [
       "   Unnamed: 0 Salesperson  Compact  Sedan  SUV  Truck\n",
       "0           0         Ann       22     18   15     12"
      ],
      "text/html": "<div>\n<style scoped>\n    .dataframe tbody tr th:only-of-type {\n        vertical-align: middle;\n    }\n\n    .dataframe tbody tr th {\n        vertical-align: top;\n    }\n\n    .dataframe thead th {\n        text-align: right;\n    }\n</style>\n<table border=\"1\" class=\"dataframe\">\n  <thead>\n    <tr style=\"text-align: right;\">\n      <th></th>\n      <th>Unnamed: 0</th>\n      <th>Salesperson</th>\n      <th>Compact</th>\n      <th>Sedan</th>\n      <th>SUV</th>\n      <th>Truck</th>\n    </tr>\n  </thead>\n  <tbody>\n    <tr>\n      <th>0</th>\n      <td>0</td>\n      <td>Ann</td>\n      <td>22</td>\n      <td>18</td>\n      <td>15</td>\n      <td>12</td>\n    </tr>\n  </tbody>\n</table>\n</div>"
     },
     "metadata": {},
     "execution_count": 10
    }
   ],
   "source": [
    "sales_may >> intersect(sales_apr)"
   ]
  },
  {
   "cell_type": "markdown",
   "metadata": {},
   "source": [
    "## Finding rows unique to the left table.\n",
    "\n",
    "Use `left_table >> dfply.set_diff(right_table)`"
   ]
  },
  {
   "cell_type": "code",
   "execution_count": 11,
   "metadata": {
    "scrolled": false
   },
   "outputs": [
    {
     "output_type": "execute_result",
     "data": {
      "text/plain": [
       "   Unnamed: 0 Salesperson  Compact  Sedan  SUV  Truck\n",
       "1           1         Bob       20     14    6     24\n",
       "2           2     Yolanda       19     10   28     17\n",
       "3           3      Xerxes       11     27   17      9"
      ],
      "text/html": "<div>\n<style scoped>\n    .dataframe tbody tr th:only-of-type {\n        vertical-align: middle;\n    }\n\n    .dataframe tbody tr th {\n        vertical-align: top;\n    }\n\n    .dataframe thead th {\n        text-align: right;\n    }\n</style>\n<table border=\"1\" class=\"dataframe\">\n  <thead>\n    <tr style=\"text-align: right;\">\n      <th></th>\n      <th>Unnamed: 0</th>\n      <th>Salesperson</th>\n      <th>Compact</th>\n      <th>Sedan</th>\n      <th>SUV</th>\n      <th>Truck</th>\n    </tr>\n  </thead>\n  <tbody>\n    <tr>\n      <th>1</th>\n      <td>1</td>\n      <td>Bob</td>\n      <td>20</td>\n      <td>14</td>\n      <td>6</td>\n      <td>24</td>\n    </tr>\n    <tr>\n      <th>2</th>\n      <td>2</td>\n      <td>Yolanda</td>\n      <td>19</td>\n      <td>10</td>\n      <td>28</td>\n      <td>17</td>\n    </tr>\n    <tr>\n      <th>3</th>\n      <td>3</td>\n      <td>Xerxes</td>\n      <td>11</td>\n      <td>27</td>\n      <td>17</td>\n      <td>9</td>\n    </tr>\n  </tbody>\n</table>\n</div>"
     },
     "metadata": {},
     "execution_count": 11
    }
   ],
   "source": [
    "sales_may >> set_diff(sales_apr)"
   ]
  },
  {
   "cell_type": "markdown",
   "metadata": {},
   "source": [
    "## <font color=\"red\"> Exercise 1 </font>\n",
    "\n",
    "In the data folder, you will find 6 files that contain a sample 100,000 rows from the uber data for the month apr14-sep14.  Perform the following tasks:\n",
    "\n",
    "1. Use `glob` to get all 6 file paths.\n",
    "2. Use a regular expression to create a `lambda` function that pulls the month from the files.\n",
    "3. Read the 6 data frames into a `dict` with keys equal to the month name and values containing the corresponding data frame.\n",
    "4. Write a helper function that adds a month column each dictionary.  Use a dictionary comprehension to apply this helper to each `df`.\n",
    "5. Use the accumulator pattern and `dfply.union` to combine these 6 data frames into one combined `df`\n",
    "6. Inspect the head and shape of the resulting `df`"
   ]
  },
  {
   "cell_type": "code",
   "execution_count": 22,
   "metadata": {},
   "outputs": [
    {
     "output_type": "execute_result",
     "data": {
      "text/plain": [
       "['./data/uber-raw-data-jun14-sample.csv',\n",
       " './data/uber-raw-data-may14-sample.csv',\n",
       " './data/uber-raw-data-aug14-sample.csv',\n",
       " './data/uber-raw-data-sep14-sample.csv',\n",
       " './data/uber-raw-data-apr14-sample.csv',\n",
       " './data/uber-raw-data-jul14-sample.csv']"
      ]
     },
     "metadata": {},
     "execution_count": 22
    }
   ],
   "source": [
    "# Your code here\n",
    "\n",
    "import glob\n",
    "\n",
    "glob.glob(\"./data/uber*.csv\")"
   ]
  },
  {
   "cell_type": "code",
   "execution_count": 34,
   "metadata": {},
   "outputs": [],
   "source": [
    "monthpuller =  lambda x: re.search('([a-z]+)\\d\\d', x)[0]"
   ]
  },
  {
   "cell_type": "code",
   "execution_count": 49,
   "metadata": {},
   "outputs": [
    {
     "output_type": "execute_result",
     "data": {
      "text/plain": [
       "'jul14'"
      ]
     },
     "metadata": {},
     "execution_count": 49
    }
   ],
   "source": [
    "uber_months = list(map(monthpuller, glob.glob(\"./data/uber*.csv\")))\n",
    "\n",
    "uber_months[5]"
   ]
  },
  {
   "cell_type": "code",
   "execution_count": 44,
   "metadata": {},
   "outputs": [],
   "source": [
    "thisdict = {\n",
    " uber_months[0] : pd.read_csv('./data/uber-raw-data-jun14-sample.csv'),\n",
    " uber_months[1] : pd.read_csv('./data/uber-raw-data-may14-sample.csv'),\n",
    " uber_months[2] : pd.read_csv('./data/uber-raw-data-aug14-sample.csv'),\n",
    " uber_months[3] : pd.read_csv('./data/uber-raw-data-sep14-sample.csv'),\n",
    " uber_months[4] : pd.read_csv('./data/uber-raw-data-apr14-sample.csv'),\n",
    " uber_months[5] : pd.read_csv('./data/uber-raw-data-jul14-sample.csv')\n",
    "}"
   ]
  },
  {
   "cell_type": "code",
   "execution_count": 38,
   "metadata": {},
   "outputs": [],
   "source": [
    "month_columns = {'{0}'.format(base): value\n",
    "               for value in (uber_months)}"
   ]
  },
  {
   "source": [
    "#Reminder: come back and clean this up later after finishing Project 1"
   ],
   "cell_type": "code",
   "metadata": {},
   "execution_count": null,
   "outputs": []
  },
  {
   "cell_type": "code",
   "execution_count": 50,
   "metadata": {},
   "outputs": [],
   "source": [
    "uber_june = pd.read_csv('./data/uber-raw-data-jun14-sample.csv')\n",
    "\n",
    "uber_may = pd.read_csv('./data/uber-raw-data-may14-sample.csv')\n",
    "\n",
    "uber_aug = pd.read_csv('./data/uber-raw-data-aug14-sample.csv')\n",
    "\n",
    "uber_apr = pd.read_csv('./data/uber-raw-data-apr14-sample.csv')\n",
    "\n",
    "uber_jul = pd.read_csv('./data/uber-raw-data-jul14-sample.csv')\n",
    "\n",
    "uber_sep = pd.read_csv('./data/uber-raw-data-sep14-sample.csv')"
   ]
  },
  {
   "cell_type": "code",
   "execution_count": 58,
   "metadata": {},
   "outputs": [],
   "source": [
    "Unioned_ubers = uber_june >> mutate(month = 'June') >> union_all(uber_may >> mutate(month = 'May')) >> union_all(uber_aug >> mutate(month = 'August')) >> union_all(uber_apr >> mutate(month = 'April')) >> union_all(uber_jul >> mutate(month = 'July')) >> union_all(uber_sep >> mutate(month = 'September'))"
   ]
  },
  {
   "cell_type": "code",
   "execution_count": 60,
   "metadata": {},
   "outputs": [
    {
     "output_type": "execute_result",
     "data": {
      "text/plain": [
       "            Date/Time      Lat      Lon    Base month\n",
       "0  6/19/2014 16:49:00  40.7568 -73.9701  B02682  June\n",
       "1  6/12/2014 21:25:00  40.6463 -73.7768  B02598  June\n",
       "2  6/15/2014 22:23:00  40.7205 -73.9575  B02512  June\n",
       "3  6/14/2014 20:34:00  40.7639 -73.9624  B02617  June\n",
       "4  6/13/2014 14:36:00  40.7665 -73.9667  B02598  June"
      ],
      "text/html": "<div>\n<style scoped>\n    .dataframe tbody tr th:only-of-type {\n        vertical-align: middle;\n    }\n\n    .dataframe tbody tr th {\n        vertical-align: top;\n    }\n\n    .dataframe thead th {\n        text-align: right;\n    }\n</style>\n<table border=\"1\" class=\"dataframe\">\n  <thead>\n    <tr style=\"text-align: right;\">\n      <th></th>\n      <th>Date/Time</th>\n      <th>Lat</th>\n      <th>Lon</th>\n      <th>Base</th>\n      <th>month</th>\n    </tr>\n  </thead>\n  <tbody>\n    <tr>\n      <th>0</th>\n      <td>6/19/2014 16:49:00</td>\n      <td>40.7568</td>\n      <td>-73.9701</td>\n      <td>B02682</td>\n      <td>June</td>\n    </tr>\n    <tr>\n      <th>1</th>\n      <td>6/12/2014 21:25:00</td>\n      <td>40.6463</td>\n      <td>-73.7768</td>\n      <td>B02598</td>\n      <td>June</td>\n    </tr>\n    <tr>\n      <th>2</th>\n      <td>6/15/2014 22:23:00</td>\n      <td>40.7205</td>\n      <td>-73.9575</td>\n      <td>B02512</td>\n      <td>June</td>\n    </tr>\n    <tr>\n      <th>3</th>\n      <td>6/14/2014 20:34:00</td>\n      <td>40.7639</td>\n      <td>-73.9624</td>\n      <td>B02617</td>\n      <td>June</td>\n    </tr>\n    <tr>\n      <th>4</th>\n      <td>6/13/2014 14:36:00</td>\n      <td>40.7665</td>\n      <td>-73.9667</td>\n      <td>B02598</td>\n      <td>June</td>\n    </tr>\n  </tbody>\n</table>\n</div>"
     },
     "metadata": {},
     "execution_count": 60
    }
   ],
   "source": [
    "Unioned_ubers.head()"
   ]
  },
  {
   "cell_type": "code",
   "execution_count": 94,
   "metadata": {},
   "outputs": [],
   "source": [
    "#pattern\n",
    "\n",
    "def Uber_handler(x):\n",
    "    \n",
    "    monthpuller =  lambda string: re.search('([a-z]+)\\d\\d', string)[0]\n",
    "\n",
    "    output_dataframe = pd.DataFrame(columns = ['Date/Time', 'Lat', 'Lon', 'Base', 'month'])\n",
    "\n",
    "\n",
    "    for obj in x:\n",
    "        tempdf = pd.read_csv(obj)\n",
    "        tempdf_mutated = tempdf >> mutate(month = monthpuller(obj) )\n",
    "        output_dataframe = output_dataframe >> union_all(tempdf_mutated)\n",
    "\n",
    "    return output_dataframe"
   ]
  },
  {
   "cell_type": "code",
   "execution_count": 95,
   "metadata": {},
   "outputs": [],
   "source": [
    "output = Uber_handler(glob.glob(\"./data/uber*.csv\"))"
   ]
  },
  {
   "cell_type": "code",
   "execution_count": 96,
   "metadata": {},
   "outputs": [
    {
     "output_type": "execute_result",
     "data": {
      "text/plain": [
       "                 Date/Time      Lat      Lon    Base  month\n",
       "0       6/19/2014 16:49:00  40.7568 -73.9701  B02682  jun14\n",
       "1       6/12/2014 21:25:00  40.6463 -73.7768  B02598  jun14\n",
       "2       6/15/2014 22:23:00  40.7205 -73.9575  B02512  jun14\n",
       "3       6/14/2014 20:34:00  40.7639 -73.9624  B02617  jun14\n",
       "4       6/13/2014 14:36:00  40.7665 -73.9667  B02598  jun14\n",
       "...                    ...      ...      ...     ...    ...\n",
       "599995    7/9/2014 7:17:00  40.7329 -73.9794  B02617  jul14\n",
       "599996  7/24/2014 13:34:00  40.6713 -73.9846  B02682  jul14\n",
       "599997   7/3/2014 10:06:00  40.7623 -73.9660  B02598  jul14\n",
       "599998   7/8/2014 22:21:00  40.7670 -73.9171  B02617  jul14\n",
       "599999  7/14/2014 17:01:00  40.7331 -73.9948  B02682  jul14\n",
       "\n",
       "[600000 rows x 5 columns]"
      ],
      "text/html": "<div>\n<style scoped>\n    .dataframe tbody tr th:only-of-type {\n        vertical-align: middle;\n    }\n\n    .dataframe tbody tr th {\n        vertical-align: top;\n    }\n\n    .dataframe thead th {\n        text-align: right;\n    }\n</style>\n<table border=\"1\" class=\"dataframe\">\n  <thead>\n    <tr style=\"text-align: right;\">\n      <th></th>\n      <th>Date/Time</th>\n      <th>Lat</th>\n      <th>Lon</th>\n      <th>Base</th>\n      <th>month</th>\n    </tr>\n  </thead>\n  <tbody>\n    <tr>\n      <th>0</th>\n      <td>6/19/2014 16:49:00</td>\n      <td>40.7568</td>\n      <td>-73.9701</td>\n      <td>B02682</td>\n      <td>jun14</td>\n    </tr>\n    <tr>\n      <th>1</th>\n      <td>6/12/2014 21:25:00</td>\n      <td>40.6463</td>\n      <td>-73.7768</td>\n      <td>B02598</td>\n      <td>jun14</td>\n    </tr>\n    <tr>\n      <th>2</th>\n      <td>6/15/2014 22:23:00</td>\n      <td>40.7205</td>\n      <td>-73.9575</td>\n      <td>B02512</td>\n      <td>jun14</td>\n    </tr>\n    <tr>\n      <th>3</th>\n      <td>6/14/2014 20:34:00</td>\n      <td>40.7639</td>\n      <td>-73.9624</td>\n      <td>B02617</td>\n      <td>jun14</td>\n    </tr>\n    <tr>\n      <th>4</th>\n      <td>6/13/2014 14:36:00</td>\n      <td>40.7665</td>\n      <td>-73.9667</td>\n      <td>B02598</td>\n      <td>jun14</td>\n    </tr>\n    <tr>\n      <th>...</th>\n      <td>...</td>\n      <td>...</td>\n      <td>...</td>\n      <td>...</td>\n      <td>...</td>\n    </tr>\n    <tr>\n      <th>599995</th>\n      <td>7/9/2014 7:17:00</td>\n      <td>40.7329</td>\n      <td>-73.9794</td>\n      <td>B02617</td>\n      <td>jul14</td>\n    </tr>\n    <tr>\n      <th>599996</th>\n      <td>7/24/2014 13:34:00</td>\n      <td>40.6713</td>\n      <td>-73.9846</td>\n      <td>B02682</td>\n      <td>jul14</td>\n    </tr>\n    <tr>\n      <th>599997</th>\n      <td>7/3/2014 10:06:00</td>\n      <td>40.7623</td>\n      <td>-73.9660</td>\n      <td>B02598</td>\n      <td>jul14</td>\n    </tr>\n    <tr>\n      <th>599998</th>\n      <td>7/8/2014 22:21:00</td>\n      <td>40.7670</td>\n      <td>-73.9171</td>\n      <td>B02617</td>\n      <td>jul14</td>\n    </tr>\n    <tr>\n      <th>599999</th>\n      <td>7/14/2014 17:01:00</td>\n      <td>40.7331</td>\n      <td>-73.9948</td>\n      <td>B02682</td>\n      <td>jul14</td>\n    </tr>\n  </tbody>\n</table>\n<p>600000 rows × 5 columns</p>\n</div>"
     },
     "metadata": {},
     "execution_count": 96
    }
   ],
   "source": [
    "output"
   ]
  }
 ],
 "metadata": {
  "kernelspec": {
   "name": "python376jvsc74a57bd0afb832a54f715cd2f1ddeab6d5270592cc3825ffc87d65c491f17d6f77347d1f",
   "display_name": "Python 3.7.6 64-bit ('base': conda)"
  },
  "language_info": {
   "codemirror_mode": {
    "name": "ipython",
    "version": 3
   },
   "file_extension": ".py",
   "mimetype": "text/x-python",
   "name": "python",
   "nbconvert_exporter": "python",
   "pygments_lexer": "ipython3",
   "version": "3.7.6-final"
  }
 },
 "nbformat": 4,
 "nbformat_minor": 2
}